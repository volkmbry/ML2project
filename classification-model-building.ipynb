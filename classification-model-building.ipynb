{
 "cells": [
  {
   "cell_type": "code",
   "execution_count": 1,
   "id": "initial_id",
   "metadata": {
    "collapsed": true,
    "ExecuteTime": {
     "end_time": "2024-06-05T19:05:06.092882400Z",
     "start_time": "2024-06-05T19:04:57.885840900Z"
    }
   },
   "outputs": [],
   "source": [
    "import nltk\n",
    "import numpy as np #for arrays and matrix manipulcation\n",
    "import pandas as pd #for reading data and managing dataframes\n",
    "\n",
    "#for text preprocessing\n",
    "from nltk.stem import SnowballStemmer #for stemming\n",
    "from nltk import word_tokenize #for tokenization\n",
    "from nltk.corpus import stopwords #for getting stop words\n",
    "import nltk\n",
    "import re #for regular expression\n",
    "\n",
    "#For Feature Extraction\n",
    "from sklearn.feature_extraction.text import CountVectorizer #for n-grams\n",
    "from sklearn.feature_extraction.text import TfidfTransformer # for tf-idf\n",
    "from sklearn.feature_extraction.text import TfidfVectorizer #for tf-idf"
   ]
  },
  {
   "cell_type": "code",
   "outputs": [
    {
     "data": {
      "text/plain": "                                               text-de                class  \\\n0    Ich hätte gerne mehr Informationen zu Ihrem Sm...      Produktanfragen   \n1    Guten Tag, ich interessiere mich für Ihre Möbe...      Produktanfragen   \n2    Sehr geehrtes Team, gibt es eine Garantie für ...      Produktanfragen   \n3    Können Sie mir Kundenbewertungen für das Produ...      Produktanfragen   \n4    Hallo, wie funktioniert das Rückgaberecht für ...      Produktanfragen   \n..                                                 ...                  ...   \n894              Bieten Sie hier Beratungsdienste an?\"   Allgemeine Anfrage   \n895           Könnten Sie mir darüber Auskunft geben?\"   Allgemeine Anfrage   \n896      Bieten Sie hier individuelle Anpassungen an?\"   Allgemeine Anfrage   \n897           Könnten Sie mir darüber Auskunft geben?\"   Allgemeine Anfrage   \n898              Bieten Sie hier Beratungsdienste an?\"   Allgemeine Anfrage   \n\n                                               text-en     class-formatted  \\\n0    I would like more information about your smart...     Produktanfragen   \n1    Hello, I'm interested in your pieces of furnit...     Produktanfragen   \n2    Dear team, is there a guarantee for the electr...     Produktanfragen   \n3    Can you provide me with customer reviews for t...     Produktanfragen   \n4    Hello, how does the right of return for the pr...     Produktanfragen   \n..                                                 ...                 ...   \n894              Do you offer advisory services here?\"  Allgemeine_Anfrage   \n895                       Could you tell me about it?\"  Allgemeine_Anfrage   \n896         Do you offer individual adjustments here?\"  Allgemeine_Anfrage   \n897                       Could you tell me about it?\"  Allgemeine_Anfrage   \n898              Do you offer advisory services here?\"  Allgemeine_Anfrage   \n\n              class-en  \n0    Product Enquiries  \n1    Product Enquiries  \n2    Product Enquiries  \n3    Product Enquiries  \n4    Product Enquiries  \n..                 ...  \n894    General request  \n895    General request  \n896    General request  \n897    General request  \n898    General request  \n\n[899 rows x 5 columns]",
      "text/html": "<div>\n<style scoped>\n    .dataframe tbody tr th:only-of-type {\n        vertical-align: middle;\n    }\n\n    .dataframe tbody tr th {\n        vertical-align: top;\n    }\n\n    .dataframe thead th {\n        text-align: right;\n    }\n</style>\n<table border=\"1\" class=\"dataframe\">\n  <thead>\n    <tr style=\"text-align: right;\">\n      <th></th>\n      <th>text-de</th>\n      <th>class</th>\n      <th>text-en</th>\n      <th>class-formatted</th>\n      <th>class-en</th>\n    </tr>\n  </thead>\n  <tbody>\n    <tr>\n      <th>0</th>\n      <td>Ich hätte gerne mehr Informationen zu Ihrem Sm...</td>\n      <td>Produktanfragen</td>\n      <td>I would like more information about your smart...</td>\n      <td>Produktanfragen</td>\n      <td>Product Enquiries</td>\n    </tr>\n    <tr>\n      <th>1</th>\n      <td>Guten Tag, ich interessiere mich für Ihre Möbe...</td>\n      <td>Produktanfragen</td>\n      <td>Hello, I'm interested in your pieces of furnit...</td>\n      <td>Produktanfragen</td>\n      <td>Product Enquiries</td>\n    </tr>\n    <tr>\n      <th>2</th>\n      <td>Sehr geehrtes Team, gibt es eine Garantie für ...</td>\n      <td>Produktanfragen</td>\n      <td>Dear team, is there a guarantee for the electr...</td>\n      <td>Produktanfragen</td>\n      <td>Product Enquiries</td>\n    </tr>\n    <tr>\n      <th>3</th>\n      <td>Können Sie mir Kundenbewertungen für das Produ...</td>\n      <td>Produktanfragen</td>\n      <td>Can you provide me with customer reviews for t...</td>\n      <td>Produktanfragen</td>\n      <td>Product Enquiries</td>\n    </tr>\n    <tr>\n      <th>4</th>\n      <td>Hallo, wie funktioniert das Rückgaberecht für ...</td>\n      <td>Produktanfragen</td>\n      <td>Hello, how does the right of return for the pr...</td>\n      <td>Produktanfragen</td>\n      <td>Product Enquiries</td>\n    </tr>\n    <tr>\n      <th>...</th>\n      <td>...</td>\n      <td>...</td>\n      <td>...</td>\n      <td>...</td>\n      <td>...</td>\n    </tr>\n    <tr>\n      <th>894</th>\n      <td>Bieten Sie hier Beratungsdienste an?\"</td>\n      <td>Allgemeine Anfrage</td>\n      <td>Do you offer advisory services here?\"</td>\n      <td>Allgemeine_Anfrage</td>\n      <td>General request</td>\n    </tr>\n    <tr>\n      <th>895</th>\n      <td>Könnten Sie mir darüber Auskunft geben?\"</td>\n      <td>Allgemeine Anfrage</td>\n      <td>Could you tell me about it?\"</td>\n      <td>Allgemeine_Anfrage</td>\n      <td>General request</td>\n    </tr>\n    <tr>\n      <th>896</th>\n      <td>Bieten Sie hier individuelle Anpassungen an?\"</td>\n      <td>Allgemeine Anfrage</td>\n      <td>Do you offer individual adjustments here?\"</td>\n      <td>Allgemeine_Anfrage</td>\n      <td>General request</td>\n    </tr>\n    <tr>\n      <th>897</th>\n      <td>Könnten Sie mir darüber Auskunft geben?\"</td>\n      <td>Allgemeine Anfrage</td>\n      <td>Could you tell me about it?\"</td>\n      <td>Allgemeine_Anfrage</td>\n      <td>General request</td>\n    </tr>\n    <tr>\n      <th>898</th>\n      <td>Bieten Sie hier Beratungsdienste an?\"</td>\n      <td>Allgemeine Anfrage</td>\n      <td>Do you offer advisory services here?\"</td>\n      <td>Allgemeine_Anfrage</td>\n      <td>General request</td>\n    </tr>\n  </tbody>\n</table>\n<p>899 rows × 5 columns</p>\n</div>"
     },
     "execution_count": 38,
     "metadata": {},
     "output_type": "execute_result"
    }
   ],
   "source": [
    "#load the dataset\n",
    "df1 = pd.read_csv('kundenanfragen-daten-en-1.txt')\n",
    "df1"
   ],
   "metadata": {
    "collapsed": false,
    "ExecuteTime": {
     "end_time": "2024-06-05T16:28:54.874260600Z",
     "start_time": "2024-06-05T16:28:54.820406100Z"
    }
   },
   "id": "37a12c95af248a34",
   "execution_count": 38
  },
  {
   "cell_type": "code",
   "outputs": [],
   "source": [],
   "metadata": {
    "collapsed": false,
    "ExecuteTime": {
     "end_time": "2024-06-05T16:28:56.077339800Z",
     "start_time": "2024-06-05T16:28:56.042435500Z"
    }
   },
   "id": "401fe0f546df3ab7",
   "execution_count": 38
  },
  {
   "cell_type": "code",
   "outputs": [
    {
     "name": "stdout",
     "output_type": "stream",
     "text": [
      "<class 'pandas.core.frame.DataFrame'>\n",
      "RangeIndex: 899 entries, 0 to 898\n",
      "Data columns (total 5 columns):\n",
      " #   Column           Non-Null Count  Dtype \n",
      "---  ------           --------------  ----- \n",
      " 0   text-de          899 non-null    object\n",
      " 1   class            899 non-null    object\n",
      " 2   text-en          899 non-null    object\n",
      " 3   class-formatted  899 non-null    object\n",
      " 4   class-en         899 non-null    object\n",
      "dtypes: object(5)\n",
      "memory usage: 35.2+ KB\n"
     ]
    }
   ],
   "source": [
    "# checking data type of the observations\n",
    "df1.info()"
   ],
   "metadata": {
    "collapsed": false,
    "ExecuteTime": {
     "end_time": "2024-06-05T16:29:00.135448400Z",
     "start_time": "2024-06-05T16:29:00.100542400Z"
    }
   },
   "id": "8fb1a1297b312155",
   "execution_count": 39
  },
  {
   "cell_type": "code",
   "outputs": [
    {
     "data": {
      "text/plain": "                count unique                                       top freq\ntext-de           899    297  Könnten Sie mir darüber Auskunft geben?\"   31\nclass             899      5                             Reklamationen  202\ntext-en           899    290              Could you tell me about it?\"   31\nclass-formatted   899      5                             Reklamationen  202\nclass-en          899      5                                Complaints  202",
      "text/html": "<div>\n<style scoped>\n    .dataframe tbody tr th:only-of-type {\n        vertical-align: middle;\n    }\n\n    .dataframe tbody tr th {\n        vertical-align: top;\n    }\n\n    .dataframe thead th {\n        text-align: right;\n    }\n</style>\n<table border=\"1\" class=\"dataframe\">\n  <thead>\n    <tr style=\"text-align: right;\">\n      <th></th>\n      <th>count</th>\n      <th>unique</th>\n      <th>top</th>\n      <th>freq</th>\n    </tr>\n  </thead>\n  <tbody>\n    <tr>\n      <th>text-de</th>\n      <td>899</td>\n      <td>297</td>\n      <td>Könnten Sie mir darüber Auskunft geben?\"</td>\n      <td>31</td>\n    </tr>\n    <tr>\n      <th>class</th>\n      <td>899</td>\n      <td>5</td>\n      <td>Reklamationen</td>\n      <td>202</td>\n    </tr>\n    <tr>\n      <th>text-en</th>\n      <td>899</td>\n      <td>290</td>\n      <td>Could you tell me about it?\"</td>\n      <td>31</td>\n    </tr>\n    <tr>\n      <th>class-formatted</th>\n      <td>899</td>\n      <td>5</td>\n      <td>Reklamationen</td>\n      <td>202</td>\n    </tr>\n    <tr>\n      <th>class-en</th>\n      <td>899</td>\n      <td>5</td>\n      <td>Complaints</td>\n      <td>202</td>\n    </tr>\n  </tbody>\n</table>\n</div>"
     },
     "execution_count": 40,
     "metadata": {},
     "output_type": "execute_result"
    }
   ],
   "source": [
    "# get a descriptive statistical summary of the dataframe.\n",
    "df1.describe().T"
   ],
   "metadata": {
    "collapsed": false,
    "ExecuteTime": {
     "end_time": "2024-06-05T16:29:03.329907Z",
     "start_time": "2024-06-05T16:29:03.282035600Z"
    }
   },
   "id": "edc9a5b5d01579b8",
   "execution_count": 40
  },
  {
   "cell_type": "code",
   "outputs": [],
   "source": [],
   "metadata": {
    "collapsed": false,
    "ExecuteTime": {
     "end_time": "2024-06-05T16:26:55.436869Z",
     "start_time": "2024-06-05T16:26:55.418923300Z"
    }
   },
   "id": "e9e9d95da4701fbd",
   "execution_count": 30
  },
  {
   "cell_type": "markdown",
   "source": [
    "#### Checking for duplicated values"
   ],
   "metadata": {
    "collapsed": false
   },
   "id": "5b2f2a5d1ab22877"
  },
  {
   "cell_type": "code",
   "outputs": [
    {
     "data": {
      "text/plain": "602"
     },
     "execution_count": 41,
     "metadata": {},
     "output_type": "execute_result"
    }
   ],
   "source": [
    "# check for duplicate values in dataframe\n",
    "df1.duplicated().sum()"
   ],
   "metadata": {
    "collapsed": false,
    "ExecuteTime": {
     "end_time": "2024-06-05T16:29:07.188026800Z",
     "start_time": "2024-06-05T16:29:07.144145700Z"
    }
   },
   "id": "5bb1fc4d49ad59ca",
   "execution_count": 41
  },
  {
   "cell_type": "markdown",
   "source": [
    "#### Check for Null values"
   ],
   "metadata": {
    "collapsed": false
   },
   "id": "7d82f49d66c5b332"
  },
  {
   "cell_type": "code",
   "outputs": [
    {
     "data": {
      "text/plain": "text-de            0\nclass              0\ntext-en            0\nclass-formatted    0\nclass-en           0\ndtype: int64"
     },
     "execution_count": 42,
     "metadata": {},
     "output_type": "execute_result"
    }
   ],
   "source": [
    "df1.isna().sum().sort_values(ascending=True)"
   ],
   "metadata": {
    "collapsed": false,
    "ExecuteTime": {
     "end_time": "2024-06-05T16:29:14.897537900Z",
     "start_time": "2024-06-05T16:29:14.867619Z"
    }
   },
   "id": "2e7c8cdb97890689",
   "execution_count": 42
  },
  {
   "cell_type": "code",
   "outputs": [
    {
     "data": {
      "text/plain": "                                               text-en            class-en\n0    Hi there, I'm having trouble setting up my new...   Technical Support\n1    I'm interested in purchasing one of your produ...   Product inquiries\n2    I received my order today, but the packaging s...           Complaint\n3    How long does it usually take for orders to be...   Product inquiries\n4    I accidentally placed the wrong order. Can I c...     Order inquiries\n..                                                 ...                 ...\n505  I received an email about a promotion, but the...   General inquiries\n506  I'm interested in upgrading my subscription. C...   Product inquiries\n507  I need assistance with troubleshooting a techn...   Technical support\n508  I'm considering purchasing your product, but I...   Product inquiries\n509  I'm experiencing delays in receiving responses...   Technical support\n\n[510 rows x 2 columns]",
      "text/html": "<div>\n<style scoped>\n    .dataframe tbody tr th:only-of-type {\n        vertical-align: middle;\n    }\n\n    .dataframe tbody tr th {\n        vertical-align: top;\n    }\n\n    .dataframe thead th {\n        text-align: right;\n    }\n</style>\n<table border=\"1\" class=\"dataframe\">\n  <thead>\n    <tr style=\"text-align: right;\">\n      <th></th>\n      <th>text-en</th>\n      <th>class-en</th>\n    </tr>\n  </thead>\n  <tbody>\n    <tr>\n      <th>0</th>\n      <td>Hi there, I'm having trouble setting up my new...</td>\n      <td>Technical Support</td>\n    </tr>\n    <tr>\n      <th>1</th>\n      <td>I'm interested in purchasing one of your produ...</td>\n      <td>Product inquiries</td>\n    </tr>\n    <tr>\n      <th>2</th>\n      <td>I received my order today, but the packaging s...</td>\n      <td>Complaint</td>\n    </tr>\n    <tr>\n      <th>3</th>\n      <td>How long does it usually take for orders to be...</td>\n      <td>Product inquiries</td>\n    </tr>\n    <tr>\n      <th>4</th>\n      <td>I accidentally placed the wrong order. Can I c...</td>\n      <td>Order inquiries</td>\n    </tr>\n    <tr>\n      <th>...</th>\n      <td>...</td>\n      <td>...</td>\n    </tr>\n    <tr>\n      <th>505</th>\n      <td>I received an email about a promotion, but the...</td>\n      <td>General inquiries</td>\n    </tr>\n    <tr>\n      <th>506</th>\n      <td>I'm interested in upgrading my subscription. C...</td>\n      <td>Product inquiries</td>\n    </tr>\n    <tr>\n      <th>507</th>\n      <td>I need assistance with troubleshooting a techn...</td>\n      <td>Technical support</td>\n    </tr>\n    <tr>\n      <th>508</th>\n      <td>I'm considering purchasing your product, but I...</td>\n      <td>Product inquiries</td>\n    </tr>\n    <tr>\n      <th>509</th>\n      <td>I'm experiencing delays in receiving responses...</td>\n      <td>Technical support</td>\n    </tr>\n  </tbody>\n</table>\n<p>510 rows × 2 columns</p>\n</div>"
     },
     "execution_count": 43,
     "metadata": {},
     "output_type": "execute_result"
    }
   ],
   "source": [
    "df2 = pd.read_csv(\"kundenanfragen-daten2.txt\", delimiter=\"-\", names=['text-en', 'class-en'])\n",
    "df2"
   ],
   "metadata": {
    "collapsed": false,
    "ExecuteTime": {
     "end_time": "2024-06-05T16:29:19.593398200Z",
     "start_time": "2024-06-05T16:29:19.566471400Z"
    }
   },
   "id": "59fc35c33fbb803e",
   "execution_count": 43
  },
  {
   "cell_type": "code",
   "outputs": [
    {
     "data": {
      "text/plain": "text-en     0\nclass-en    0\ndtype: int64"
     },
     "execution_count": 44,
     "metadata": {},
     "output_type": "execute_result"
    }
   ],
   "source": [
    "df2.isna().sum()"
   ],
   "metadata": {
    "collapsed": false,
    "ExecuteTime": {
     "end_time": "2024-06-05T16:29:21.578086900Z",
     "start_time": "2024-06-05T16:29:21.529218300Z"
    }
   },
   "id": "a136e361190e297",
   "execution_count": 44
  },
  {
   "cell_type": "code",
   "outputs": [],
   "source": [],
   "metadata": {
    "collapsed": false,
    "ExecuteTime": {
     "end_time": "2024-06-05T16:28:33.472697500Z",
     "start_time": "2024-06-05T16:28:33.410864600Z"
    }
   },
   "id": "27c4d23e8bc63313",
   "execution_count": 36
  },
  {
   "cell_type": "code",
   "outputs": [
    {
     "data": {
      "text/plain": "                                                text-de             class  \\\n0     Ich hätte gerne mehr Informationen zu Ihrem Sm...   Produktanfragen   \n1     Guten Tag, ich interessiere mich für Ihre Möbe...   Produktanfragen   \n2     Sehr geehrtes Team, gibt es eine Garantie für ...   Produktanfragen   \n3     Können Sie mir Kundenbewertungen für das Produ...   Produktanfragen   \n4     Hallo, wie funktioniert das Rückgaberecht für ...   Produktanfragen   \n...                                                 ...               ...   \n1404                                                NaN               NaN   \n1405                                                NaN               NaN   \n1406                                                NaN               NaN   \n1407                                                NaN               NaN   \n1408                                                NaN               NaN   \n\n                                                text-en  class-formatted  \\\n0     I would like more information about your smart...  Produktanfragen   \n1     Hello, I'm interested in your pieces of furnit...  Produktanfragen   \n2     Dear team, is there a guarantee for the electr...  Produktanfragen   \n3     Can you provide me with customer reviews for t...  Produktanfragen   \n4     Hello, how does the right of return for the pr...  Produktanfragen   \n...                                                 ...              ...   \n1404  I received an email about a promotion, but the...              NaN   \n1405  I'm interested in upgrading my subscription. C...              NaN   \n1406  I need assistance with troubleshooting a techn...              NaN   \n1407  I'm considering purchasing your product, but I...              NaN   \n1408  I'm experiencing delays in receiving responses...              NaN   \n\n                class-en  \n0      Product Enquiries  \n1      Product Enquiries  \n2      Product Enquiries  \n3      Product Enquiries  \n4      Product Enquiries  \n...                  ...  \n1404   General inquiries  \n1405   Product inquiries  \n1406   Technical support  \n1407   Product inquiries  \n1408   Technical support  \n\n[1409 rows x 5 columns]",
      "text/html": "<div>\n<style scoped>\n    .dataframe tbody tr th:only-of-type {\n        vertical-align: middle;\n    }\n\n    .dataframe tbody tr th {\n        vertical-align: top;\n    }\n\n    .dataframe thead th {\n        text-align: right;\n    }\n</style>\n<table border=\"1\" class=\"dataframe\">\n  <thead>\n    <tr style=\"text-align: right;\">\n      <th></th>\n      <th>text-de</th>\n      <th>class</th>\n      <th>text-en</th>\n      <th>class-formatted</th>\n      <th>class-en</th>\n    </tr>\n  </thead>\n  <tbody>\n    <tr>\n      <th>0</th>\n      <td>Ich hätte gerne mehr Informationen zu Ihrem Sm...</td>\n      <td>Produktanfragen</td>\n      <td>I would like more information about your smart...</td>\n      <td>Produktanfragen</td>\n      <td>Product Enquiries</td>\n    </tr>\n    <tr>\n      <th>1</th>\n      <td>Guten Tag, ich interessiere mich für Ihre Möbe...</td>\n      <td>Produktanfragen</td>\n      <td>Hello, I'm interested in your pieces of furnit...</td>\n      <td>Produktanfragen</td>\n      <td>Product Enquiries</td>\n    </tr>\n    <tr>\n      <th>2</th>\n      <td>Sehr geehrtes Team, gibt es eine Garantie für ...</td>\n      <td>Produktanfragen</td>\n      <td>Dear team, is there a guarantee for the electr...</td>\n      <td>Produktanfragen</td>\n      <td>Product Enquiries</td>\n    </tr>\n    <tr>\n      <th>3</th>\n      <td>Können Sie mir Kundenbewertungen für das Produ...</td>\n      <td>Produktanfragen</td>\n      <td>Can you provide me with customer reviews for t...</td>\n      <td>Produktanfragen</td>\n      <td>Product Enquiries</td>\n    </tr>\n    <tr>\n      <th>4</th>\n      <td>Hallo, wie funktioniert das Rückgaberecht für ...</td>\n      <td>Produktanfragen</td>\n      <td>Hello, how does the right of return for the pr...</td>\n      <td>Produktanfragen</td>\n      <td>Product Enquiries</td>\n    </tr>\n    <tr>\n      <th>...</th>\n      <td>...</td>\n      <td>...</td>\n      <td>...</td>\n      <td>...</td>\n      <td>...</td>\n    </tr>\n    <tr>\n      <th>1404</th>\n      <td>NaN</td>\n      <td>NaN</td>\n      <td>I received an email about a promotion, but the...</td>\n      <td>NaN</td>\n      <td>General inquiries</td>\n    </tr>\n    <tr>\n      <th>1405</th>\n      <td>NaN</td>\n      <td>NaN</td>\n      <td>I'm interested in upgrading my subscription. C...</td>\n      <td>NaN</td>\n      <td>Product inquiries</td>\n    </tr>\n    <tr>\n      <th>1406</th>\n      <td>NaN</td>\n      <td>NaN</td>\n      <td>I need assistance with troubleshooting a techn...</td>\n      <td>NaN</td>\n      <td>Technical support</td>\n    </tr>\n    <tr>\n      <th>1407</th>\n      <td>NaN</td>\n      <td>NaN</td>\n      <td>I'm considering purchasing your product, but I...</td>\n      <td>NaN</td>\n      <td>Product inquiries</td>\n    </tr>\n    <tr>\n      <th>1408</th>\n      <td>NaN</td>\n      <td>NaN</td>\n      <td>I'm experiencing delays in receiving responses...</td>\n      <td>NaN</td>\n      <td>Technical support</td>\n    </tr>\n  </tbody>\n</table>\n<p>1409 rows × 5 columns</p>\n</div>"
     },
     "execution_count": 45,
     "metadata": {},
     "output_type": "execute_result"
    }
   ],
   "source": [
    "df_combined = pd.concat([df1,df2], ignore_index=True)\n",
    "df_combined"
   ],
   "metadata": {
    "collapsed": false,
    "ExecuteTime": {
     "end_time": "2024-06-05T16:29:40.353558Z",
     "start_time": "2024-06-05T16:29:40.311645900Z"
    }
   },
   "id": "668fc4b7b4306368",
   "execution_count": 45
  },
  {
   "cell_type": "code",
   "outputs": [
    {
     "data": {
      "text/plain": "                                                text-de             class  \\\n0     Ich hätte gerne mehr Informationen zu Ihrem Sm...   Produktanfragen   \n1     Guten Tag, ich interessiere mich für Ihre Möbe...   Produktanfragen   \n2     Sehr geehrtes Team, gibt es eine Garantie für ...   Produktanfragen   \n3     Können Sie mir Kundenbewertungen für das Produ...   Produktanfragen   \n4     Hallo, wie funktioniert das Rückgaberecht für ...   Produktanfragen   \n...                                                 ...               ...   \n1404                                                NaN               NaN   \n1405                                                NaN               NaN   \n1406                                                NaN               NaN   \n1407                                                NaN               NaN   \n1408                                                NaN               NaN   \n\n                                                text-en    class-formatted  \\\n0     I would like more information about your smart...  Product_Enquiries   \n1     Hello, I'm interested in your pieces of furnit...  Product_Enquiries   \n2     Dear team, is there a guarantee for the electr...  Product_Enquiries   \n3     Can you provide me with customer reviews for t...  Product_Enquiries   \n4     Hello, how does the right of return for the pr...  Product_Enquiries   \n...                                                 ...                ...   \n1404  I received an email about a promotion, but the...  General_inquiries   \n1405  I'm interested in upgrading my subscription. C...  Product_inquiries   \n1406  I need assistance with troubleshooting a techn...  Technical_support   \n1407  I'm considering purchasing your product, but I...  Product_inquiries   \n1408  I'm experiencing delays in receiving responses...  Technical_support   \n\n                class-en  \n0      Product Enquiries  \n1      Product Enquiries  \n2      Product Enquiries  \n3      Product Enquiries  \n4      Product Enquiries  \n...                  ...  \n1404   General inquiries  \n1405   Product inquiries  \n1406   Technical support  \n1407   Product inquiries  \n1408   Technical support  \n\n[1409 rows x 5 columns]",
      "text/html": "<div>\n<style scoped>\n    .dataframe tbody tr th:only-of-type {\n        vertical-align: middle;\n    }\n\n    .dataframe tbody tr th {\n        vertical-align: top;\n    }\n\n    .dataframe thead th {\n        text-align: right;\n    }\n</style>\n<table border=\"1\" class=\"dataframe\">\n  <thead>\n    <tr style=\"text-align: right;\">\n      <th></th>\n      <th>text-de</th>\n      <th>class</th>\n      <th>text-en</th>\n      <th>class-formatted</th>\n      <th>class-en</th>\n    </tr>\n  </thead>\n  <tbody>\n    <tr>\n      <th>0</th>\n      <td>Ich hätte gerne mehr Informationen zu Ihrem Sm...</td>\n      <td>Produktanfragen</td>\n      <td>I would like more information about your smart...</td>\n      <td>Product_Enquiries</td>\n      <td>Product Enquiries</td>\n    </tr>\n    <tr>\n      <th>1</th>\n      <td>Guten Tag, ich interessiere mich für Ihre Möbe...</td>\n      <td>Produktanfragen</td>\n      <td>Hello, I'm interested in your pieces of furnit...</td>\n      <td>Product_Enquiries</td>\n      <td>Product Enquiries</td>\n    </tr>\n    <tr>\n      <th>2</th>\n      <td>Sehr geehrtes Team, gibt es eine Garantie für ...</td>\n      <td>Produktanfragen</td>\n      <td>Dear team, is there a guarantee for the electr...</td>\n      <td>Product_Enquiries</td>\n      <td>Product Enquiries</td>\n    </tr>\n    <tr>\n      <th>3</th>\n      <td>Können Sie mir Kundenbewertungen für das Produ...</td>\n      <td>Produktanfragen</td>\n      <td>Can you provide me with customer reviews for t...</td>\n      <td>Product_Enquiries</td>\n      <td>Product Enquiries</td>\n    </tr>\n    <tr>\n      <th>4</th>\n      <td>Hallo, wie funktioniert das Rückgaberecht für ...</td>\n      <td>Produktanfragen</td>\n      <td>Hello, how does the right of return for the pr...</td>\n      <td>Product_Enquiries</td>\n      <td>Product Enquiries</td>\n    </tr>\n    <tr>\n      <th>...</th>\n      <td>...</td>\n      <td>...</td>\n      <td>...</td>\n      <td>...</td>\n      <td>...</td>\n    </tr>\n    <tr>\n      <th>1404</th>\n      <td>NaN</td>\n      <td>NaN</td>\n      <td>I received an email about a promotion, but the...</td>\n      <td>General_inquiries</td>\n      <td>General inquiries</td>\n    </tr>\n    <tr>\n      <th>1405</th>\n      <td>NaN</td>\n      <td>NaN</td>\n      <td>I'm interested in upgrading my subscription. C...</td>\n      <td>Product_inquiries</td>\n      <td>Product inquiries</td>\n    </tr>\n    <tr>\n      <th>1406</th>\n      <td>NaN</td>\n      <td>NaN</td>\n      <td>I need assistance with troubleshooting a techn...</td>\n      <td>Technical_support</td>\n      <td>Technical support</td>\n    </tr>\n    <tr>\n      <th>1407</th>\n      <td>NaN</td>\n      <td>NaN</td>\n      <td>I'm considering purchasing your product, but I...</td>\n      <td>Product_inquiries</td>\n      <td>Product inquiries</td>\n    </tr>\n    <tr>\n      <th>1408</th>\n      <td>NaN</td>\n      <td>NaN</td>\n      <td>I'm experiencing delays in receiving responses...</td>\n      <td>Technical_support</td>\n      <td>Technical support</td>\n    </tr>\n  </tbody>\n</table>\n<p>1409 rows × 5 columns</p>\n</div>"
     },
     "execution_count": 47,
     "metadata": {},
     "output_type": "execute_result"
    }
   ],
   "source": [
    "df_combined['class-formatted'] = df_combined['class-en'].apply(lambda x: x.strip().replace(' ', '_'))\n",
    "df_combined"
   ],
   "metadata": {
    "collapsed": false,
    "ExecuteTime": {
     "end_time": "2024-06-05T16:30:44.586149500Z",
     "start_time": "2024-06-05T16:30:44.532293900Z"
    }
   },
   "id": "454bc7a188a7e94d",
   "execution_count": 47
  },
  {
   "cell_type": "code",
   "outputs": [
    {
     "data": {
      "text/plain": "text-de            510\nclass              510\ntext-en              0\nclass-formatted      0\nclass-en             0\ndtype: int64"
     },
     "execution_count": 48,
     "metadata": {},
     "output_type": "execute_result"
    }
   ],
   "source": [
    "df_combined.isna().sum()"
   ],
   "metadata": {
    "collapsed": false,
    "ExecuteTime": {
     "end_time": "2024-06-05T16:31:28.577662800Z",
     "start_time": "2024-06-05T16:31:28.547743600Z"
    }
   },
   "id": "e277bcb51a0009c",
   "execution_count": 48
  },
  {
   "cell_type": "code",
   "outputs": [
    {
     "data": {
      "text/plain": "                                                text-en    class-formatted\n0     I would like more information about your smart...  Product_Enquiries\n1     Hello, I'm interested in your pieces of furnit...  Product_Enquiries\n2     Dear team, is there a guarantee for the electr...  Product_Enquiries\n3     Can you provide me with customer reviews for t...  Product_Enquiries\n4     Hello, how does the right of return for the pr...  Product_Enquiries\n...                                                 ...                ...\n1404  I received an email about a promotion, but the...  General_inquiries\n1405  I'm interested in upgrading my subscription. C...  Product_inquiries\n1406  I need assistance with troubleshooting a techn...  Technical_support\n1407  I'm considering purchasing your product, but I...  Product_inquiries\n1408  I'm experiencing delays in receiving responses...  Technical_support\n\n[1409 rows x 2 columns]",
      "text/html": "<div>\n<style scoped>\n    .dataframe tbody tr th:only-of-type {\n        vertical-align: middle;\n    }\n\n    .dataframe tbody tr th {\n        vertical-align: top;\n    }\n\n    .dataframe thead th {\n        text-align: right;\n    }\n</style>\n<table border=\"1\" class=\"dataframe\">\n  <thead>\n    <tr style=\"text-align: right;\">\n      <th></th>\n      <th>text-en</th>\n      <th>class-formatted</th>\n    </tr>\n  </thead>\n  <tbody>\n    <tr>\n      <th>0</th>\n      <td>I would like more information about your smart...</td>\n      <td>Product_Enquiries</td>\n    </tr>\n    <tr>\n      <th>1</th>\n      <td>Hello, I'm interested in your pieces of furnit...</td>\n      <td>Product_Enquiries</td>\n    </tr>\n    <tr>\n      <th>2</th>\n      <td>Dear team, is there a guarantee for the electr...</td>\n      <td>Product_Enquiries</td>\n    </tr>\n    <tr>\n      <th>3</th>\n      <td>Can you provide me with customer reviews for t...</td>\n      <td>Product_Enquiries</td>\n    </tr>\n    <tr>\n      <th>4</th>\n      <td>Hello, how does the right of return for the pr...</td>\n      <td>Product_Enquiries</td>\n    </tr>\n    <tr>\n      <th>...</th>\n      <td>...</td>\n      <td>...</td>\n    </tr>\n    <tr>\n      <th>1404</th>\n      <td>I received an email about a promotion, but the...</td>\n      <td>General_inquiries</td>\n    </tr>\n    <tr>\n      <th>1405</th>\n      <td>I'm interested in upgrading my subscription. C...</td>\n      <td>Product_inquiries</td>\n    </tr>\n    <tr>\n      <th>1406</th>\n      <td>I need assistance with troubleshooting a techn...</td>\n      <td>Technical_support</td>\n    </tr>\n    <tr>\n      <th>1407</th>\n      <td>I'm considering purchasing your product, but I...</td>\n      <td>Product_inquiries</td>\n    </tr>\n    <tr>\n      <th>1408</th>\n      <td>I'm experiencing delays in receiving responses...</td>\n      <td>Technical_support</td>\n    </tr>\n  </tbody>\n</table>\n<p>1409 rows × 2 columns</p>\n</div>"
     },
     "execution_count": 49,
     "metadata": {},
     "output_type": "execute_result"
    }
   ],
   "source": [
    "df_clean = df_combined.drop(labels=['text-de','class','class-en'], axis=1)\n",
    "df_clean"
   ],
   "metadata": {
    "collapsed": false,
    "ExecuteTime": {
     "end_time": "2024-06-05T16:31:53.877230300Z",
     "start_time": "2024-06-05T16:31:53.842293Z"
    }
   },
   "id": "f9c9e7a9a5da6a1c",
   "execution_count": 49
  },
  {
   "cell_type": "code",
   "outputs": [
    {
     "data": {
      "text/plain": "                                                text-en    class-formatted\n0     I would like more information about your smart...  Product_Enquiries\n1     Hello, I'm interested in your pieces of furnit...  Product_Enquiries\n2     Dear team, is there a guarantee for the electr...  Product_Enquiries\n3     Can you provide me with customer reviews for t...  Product_Enquiries\n4     Hello, how does the right of return for the pr...  Product_Enquiries\n...                                                 ...                ...\n1404  I received an email about a promotion, but the...    General_request\n1405  I'm interested in upgrading my subscription. C...  Product_Enquiries\n1406  I need assistance with troubleshooting a techn...  Technical_Support\n1407  I'm considering purchasing your product, but I...  Product_Enquiries\n1408  I'm experiencing delays in receiving responses...  Technical_Support\n\n[1409 rows x 2 columns]",
      "text/html": "<div>\n<style scoped>\n    .dataframe tbody tr th:only-of-type {\n        vertical-align: middle;\n    }\n\n    .dataframe tbody tr th {\n        vertical-align: top;\n    }\n\n    .dataframe thead th {\n        text-align: right;\n    }\n</style>\n<table border=\"1\" class=\"dataframe\">\n  <thead>\n    <tr style=\"text-align: right;\">\n      <th></th>\n      <th>text-en</th>\n      <th>class-formatted</th>\n    </tr>\n  </thead>\n  <tbody>\n    <tr>\n      <th>0</th>\n      <td>I would like more information about your smart...</td>\n      <td>Product_Enquiries</td>\n    </tr>\n    <tr>\n      <th>1</th>\n      <td>Hello, I'm interested in your pieces of furnit...</td>\n      <td>Product_Enquiries</td>\n    </tr>\n    <tr>\n      <th>2</th>\n      <td>Dear team, is there a guarantee for the electr...</td>\n      <td>Product_Enquiries</td>\n    </tr>\n    <tr>\n      <th>3</th>\n      <td>Can you provide me with customer reviews for t...</td>\n      <td>Product_Enquiries</td>\n    </tr>\n    <tr>\n      <th>4</th>\n      <td>Hello, how does the right of return for the pr...</td>\n      <td>Product_Enquiries</td>\n    </tr>\n    <tr>\n      <th>...</th>\n      <td>...</td>\n      <td>...</td>\n    </tr>\n    <tr>\n      <th>1404</th>\n      <td>I received an email about a promotion, but the...</td>\n      <td>General_request</td>\n    </tr>\n    <tr>\n      <th>1405</th>\n      <td>I'm interested in upgrading my subscription. C...</td>\n      <td>Product_Enquiries</td>\n    </tr>\n    <tr>\n      <th>1406</th>\n      <td>I need assistance with troubleshooting a techn...</td>\n      <td>Technical_Support</td>\n    </tr>\n    <tr>\n      <th>1407</th>\n      <td>I'm considering purchasing your product, but I...</td>\n      <td>Product_Enquiries</td>\n    </tr>\n    <tr>\n      <th>1408</th>\n      <td>I'm experiencing delays in receiving responses...</td>\n      <td>Technical_Support</td>\n    </tr>\n  </tbody>\n</table>\n<p>1409 rows × 2 columns</p>\n</div>"
     },
     "execution_count": 2,
     "metadata": {},
     "output_type": "execute_result"
    }
   ],
   "source": [
    "df_clean = pd.read_csv(\"df_clean_with_duplicates.csv\")\n",
    "df_clean"
   ],
   "metadata": {
    "collapsed": false,
    "ExecuteTime": {
     "end_time": "2024-06-05T19:06:01.129625Z",
     "start_time": "2024-06-05T19:06:00.633953100Z"
    }
   },
   "id": "2862b9288a1e4578",
   "execution_count": 2
  },
  {
   "cell_type": "code",
   "outputs": [
    {
     "data": {
      "text/plain": "text-en            0\nclass-formatted    0\ndtype: int64"
     },
     "execution_count": 3,
     "metadata": {},
     "output_type": "execute_result"
    }
   ],
   "source": [
    "df_clean.isna().sum()"
   ],
   "metadata": {
    "collapsed": false,
    "ExecuteTime": {
     "end_time": "2024-06-05T19:06:20.291358200Z",
     "start_time": "2024-06-05T19:06:20.185640400Z"
    }
   },
   "id": "80d2f4b2f703ba69",
   "execution_count": 3
  },
  {
   "cell_type": "code",
   "outputs": [
    {
     "data": {
      "text/plain": "895"
     },
     "execution_count": 4,
     "metadata": {},
     "output_type": "execute_result"
    }
   ],
   "source": [
    "df_clean.duplicated().sum()"
   ],
   "metadata": {
    "collapsed": false,
    "ExecuteTime": {
     "end_time": "2024-06-05T19:06:21.070271500Z",
     "start_time": "2024-06-05T19:06:20.822936200Z"
    }
   },
   "id": "5542d1c11ece6d48",
   "execution_count": 4
  },
  {
   "cell_type": "code",
   "outputs": [
    {
     "data": {
      "text/plain": "class-formatted\nProduct_Enquiries    369\nGeneral_request      295\nTechnical_Support    281\nComplaints           248\nOrder_requests       216\nName: count, dtype: int64"
     },
     "execution_count": 5,
     "metadata": {},
     "output_type": "execute_result"
    }
   ],
   "source": [
    "df_clean['class-formatted'].value_counts()"
   ],
   "metadata": {
    "collapsed": false,
    "ExecuteTime": {
     "end_time": "2024-06-05T19:06:24.609802500Z",
     "start_time": "2024-06-05T19:06:24.518048400Z"
    }
   },
   "id": "cf3e3b2d1168c312",
   "execution_count": 5
  },
  {
   "cell_type": "code",
   "outputs": [],
   "source": [
    "# map similar classes to a single category\n",
    "class_mapping = {\n",
    "    'Complaint': 'Complaints',\n",
    "    'Product_inquiries': 'Product_Enquiries',\n",
    "    'Technical_support': 'Technical_Support',\n",
    "    'General_inquiries': 'General_request',\n",
    "    'Order_inquiries': 'Order_requests'\n",
    "}\n",
    "\n",
    "df_clean['class-formatted'] = df_clean['class-formatted'].map(class_mapping).fillna(df_clean['class-formatted'])"
   ],
   "metadata": {
    "collapsed": false,
    "ExecuteTime": {
     "end_time": "2024-06-05T16:35:05.246076Z",
     "start_time": "2024-06-05T16:35:05.220144600Z"
    }
   },
   "id": "30acded64f676559",
   "execution_count": 54
  },
  {
   "cell_type": "code",
   "outputs": [
    {
     "data": {
      "text/plain": "                                                text-en    class-formatted\n0     I would like more information about your smart...  Product_Enquiries\n1     Hello, I'm interested in your pieces of furnit...  Product_Enquiries\n2     Dear team, is there a guarantee for the electr...  Product_Enquiries\n3     Can you provide me with customer reviews for t...  Product_Enquiries\n4     Hello, how does the right of return for the pr...  Product_Enquiries\n...                                                 ...                ...\n1404  I received an email about a promotion, but the...    General_request\n1405  I'm interested in upgrading my subscription. C...  Product_Enquiries\n1406  I need assistance with troubleshooting a techn...  Technical_Support\n1407  I'm considering purchasing your product, but I...  Product_Enquiries\n1408  I'm experiencing delays in receiving responses...  Technical_Support\n\n[1409 rows x 2 columns]",
      "text/html": "<div>\n<style scoped>\n    .dataframe tbody tr th:only-of-type {\n        vertical-align: middle;\n    }\n\n    .dataframe tbody tr th {\n        vertical-align: top;\n    }\n\n    .dataframe thead th {\n        text-align: right;\n    }\n</style>\n<table border=\"1\" class=\"dataframe\">\n  <thead>\n    <tr style=\"text-align: right;\">\n      <th></th>\n      <th>text-en</th>\n      <th>class-formatted</th>\n    </tr>\n  </thead>\n  <tbody>\n    <tr>\n      <th>0</th>\n      <td>I would like more information about your smart...</td>\n      <td>Product_Enquiries</td>\n    </tr>\n    <tr>\n      <th>1</th>\n      <td>Hello, I'm interested in your pieces of furnit...</td>\n      <td>Product_Enquiries</td>\n    </tr>\n    <tr>\n      <th>2</th>\n      <td>Dear team, is there a guarantee for the electr...</td>\n      <td>Product_Enquiries</td>\n    </tr>\n    <tr>\n      <th>3</th>\n      <td>Can you provide me with customer reviews for t...</td>\n      <td>Product_Enquiries</td>\n    </tr>\n    <tr>\n      <th>4</th>\n      <td>Hello, how does the right of return for the pr...</td>\n      <td>Product_Enquiries</td>\n    </tr>\n    <tr>\n      <th>...</th>\n      <td>...</td>\n      <td>...</td>\n    </tr>\n    <tr>\n      <th>1404</th>\n      <td>I received an email about a promotion, but the...</td>\n      <td>General_request</td>\n    </tr>\n    <tr>\n      <th>1405</th>\n      <td>I'm interested in upgrading my subscription. C...</td>\n      <td>Product_Enquiries</td>\n    </tr>\n    <tr>\n      <th>1406</th>\n      <td>I need assistance with troubleshooting a techn...</td>\n      <td>Technical_Support</td>\n    </tr>\n    <tr>\n      <th>1407</th>\n      <td>I'm considering purchasing your product, but I...</td>\n      <td>Product_Enquiries</td>\n    </tr>\n    <tr>\n      <th>1408</th>\n      <td>I'm experiencing delays in receiving responses...</td>\n      <td>Technical_Support</td>\n    </tr>\n  </tbody>\n</table>\n<p>1409 rows × 2 columns</p>\n</div>"
     },
     "execution_count": 55,
     "metadata": {},
     "output_type": "execute_result"
    }
   ],
   "source": [
    "df_clean"
   ],
   "metadata": {
    "collapsed": false,
    "ExecuteTime": {
     "end_time": "2024-06-05T16:35:09.945077400Z",
     "start_time": "2024-06-05T16:35:09.903182200Z"
    }
   },
   "id": "f25a82aef62aeb3f",
   "execution_count": 55
  },
  {
   "cell_type": "code",
   "outputs": [
    {
     "data": {
      "text/plain": "class-formatted\nProduct_Enquiries    369\nGeneral_request      295\nTechnical_Support    281\nComplaints           248\nOrder_requests       216\nName: count, dtype: int64"
     },
     "execution_count": 6,
     "metadata": {},
     "output_type": "execute_result"
    }
   ],
   "source": [
    "df_clean['class-formatted'].value_counts()"
   ],
   "metadata": {
    "collapsed": false,
    "ExecuteTime": {
     "end_time": "2024-06-05T19:07:13.243676Z",
     "start_time": "2024-06-05T19:07:12.921540Z"
    }
   },
   "id": "2cf4134fc5122db",
   "execution_count": 6
  },
  {
   "cell_type": "code",
   "outputs": [],
   "source": [],
   "metadata": {
    "collapsed": false,
    "ExecuteTime": {
     "end_time": "2024-06-05T19:07:13.393275600Z",
     "start_time": "2024-06-05T19:07:13.181842600Z"
    }
   },
   "id": "8af09ded52f59cb8",
   "execution_count": 6
  },
  {
   "cell_type": "code",
   "outputs": [
    {
     "data": {
      "text/plain": "                                                text-en    class-formatted\n0     I would like more information about your smart...  Product_Enquiries\n1     Hello, I'm interested in your pieces of furnit...  Product_Enquiries\n2     Dear team, is there a guarantee for the electr...  Product_Enquiries\n3     Can you provide me with customer reviews for t...  Product_Enquiries\n4     Hello, how does the right of return for the pr...  Product_Enquiries\n...                                                 ...                ...\n1404  I received an email about a promotion, but the...    General_request\n1405  I'm interested in upgrading my subscription. C...  Product_Enquiries\n1406  I need assistance with troubleshooting a techn...  Technical_Support\n1407  I'm considering purchasing your product, but I...  Product_Enquiries\n1408  I'm experiencing delays in receiving responses...  Technical_Support\n\n[514 rows x 2 columns]",
      "text/html": "<div>\n<style scoped>\n    .dataframe tbody tr th:only-of-type {\n        vertical-align: middle;\n    }\n\n    .dataframe tbody tr th {\n        vertical-align: top;\n    }\n\n    .dataframe thead th {\n        text-align: right;\n    }\n</style>\n<table border=\"1\" class=\"dataframe\">\n  <thead>\n    <tr style=\"text-align: right;\">\n      <th></th>\n      <th>text-en</th>\n      <th>class-formatted</th>\n    </tr>\n  </thead>\n  <tbody>\n    <tr>\n      <th>0</th>\n      <td>I would like more information about your smart...</td>\n      <td>Product_Enquiries</td>\n    </tr>\n    <tr>\n      <th>1</th>\n      <td>Hello, I'm interested in your pieces of furnit...</td>\n      <td>Product_Enquiries</td>\n    </tr>\n    <tr>\n      <th>2</th>\n      <td>Dear team, is there a guarantee for the electr...</td>\n      <td>Product_Enquiries</td>\n    </tr>\n    <tr>\n      <th>3</th>\n      <td>Can you provide me with customer reviews for t...</td>\n      <td>Product_Enquiries</td>\n    </tr>\n    <tr>\n      <th>4</th>\n      <td>Hello, how does the right of return for the pr...</td>\n      <td>Product_Enquiries</td>\n    </tr>\n    <tr>\n      <th>...</th>\n      <td>...</td>\n      <td>...</td>\n    </tr>\n    <tr>\n      <th>1404</th>\n      <td>I received an email about a promotion, but the...</td>\n      <td>General_request</td>\n    </tr>\n    <tr>\n      <th>1405</th>\n      <td>I'm interested in upgrading my subscription. C...</td>\n      <td>Product_Enquiries</td>\n    </tr>\n    <tr>\n      <th>1406</th>\n      <td>I need assistance with troubleshooting a techn...</td>\n      <td>Technical_Support</td>\n    </tr>\n    <tr>\n      <th>1407</th>\n      <td>I'm considering purchasing your product, but I...</td>\n      <td>Product_Enquiries</td>\n    </tr>\n    <tr>\n      <th>1408</th>\n      <td>I'm experiencing delays in receiving responses...</td>\n      <td>Technical_Support</td>\n    </tr>\n  </tbody>\n</table>\n<p>514 rows × 2 columns</p>\n</div>"
     },
     "execution_count": 7,
     "metadata": {},
     "output_type": "execute_result"
    }
   ],
   "source": [
    "df_cleaned = df_clean.drop_duplicates()\n",
    "df_cleaned"
   ],
   "metadata": {
    "collapsed": false,
    "ExecuteTime": {
     "end_time": "2024-06-05T19:07:13.559837600Z",
     "start_time": "2024-06-05T19:07:13.353382900Z"
    }
   },
   "id": "d1d272cb4a01a6b7",
   "execution_count": 7
  },
  {
   "cell_type": "code",
   "outputs": [
    {
     "data": {
      "text/plain": "class-formatted\nProduct_Enquiries    132\nTechnical_Support    131\nGeneral_request      106\nOrder_requests        73\nComplaints            72\nName: count, dtype: int64"
     },
     "execution_count": 8,
     "metadata": {},
     "output_type": "execute_result"
    }
   ],
   "source": [
    "df_cleaned['class-formatted'].value_counts()"
   ],
   "metadata": {
    "collapsed": false,
    "ExecuteTime": {
     "end_time": "2024-06-05T19:07:18.571420900Z",
     "start_time": "2024-06-05T19:07:18.433790300Z"
    }
   },
   "id": "31fb2e39997c6816",
   "execution_count": 8
  },
  {
   "cell_type": "code",
   "outputs": [],
   "source": [
    "df_clean.to_csv(\"df_clean_with_duplicates.csv\",index=False)"
   ],
   "metadata": {
    "collapsed": false,
    "ExecuteTime": {
     "end_time": "2024-06-05T16:38:00.248536700Z",
     "start_time": "2024-06-05T16:38:00.215625Z"
    }
   },
   "id": "b705435bc8bf088",
   "execution_count": 63
  },
  {
   "cell_type": "code",
   "outputs": [],
   "source": [
    "df_cleaned.to_csv(\"df_cleaned.csv\", index=False)"
   ],
   "metadata": {
    "collapsed": false,
    "ExecuteTime": {
     "end_time": "2024-06-05T16:38:18.662383900Z",
     "start_time": "2024-06-05T16:38:18.605537800Z"
    }
   },
   "id": "abc4fa4c20220a9",
   "execution_count": 64
  },
  {
   "cell_type": "markdown",
   "source": [
    "## Data Preprocessing"
   ],
   "metadata": {
    "collapsed": false
   },
   "id": "fa02a30f82086026"
  },
  {
   "cell_type": "code",
   "outputs": [
    {
     "name": "stderr",
     "output_type": "stream",
     "text": [
      "[nltk_data] Downloading package stopwords to\n",
      "[nltk_data]     C:\\Users\\umair\\AppData\\Roaming\\nltk_data...\n",
      "[nltk_data]   Package stopwords is already up-to-date!\n"
     ]
    },
    {
     "data": {
      "text/plain": "True"
     },
     "execution_count": 9,
     "metadata": {},
     "output_type": "execute_result"
    }
   ],
   "source": [
    "nltk.download('stopwords')"
   ],
   "metadata": {
    "collapsed": false,
    "ExecuteTime": {
     "end_time": "2024-06-05T19:07:32.950947500Z",
     "start_time": "2024-06-05T19:07:31.984534Z"
    }
   },
   "id": "4051089f64aa66f5",
   "execution_count": 9
  },
  {
   "cell_type": "code",
   "outputs": [],
   "source": [
    "def preprocess(text):\n",
    "    #case folding (converting the string to lower case)\n",
    "    text=text.lower()\n",
    "    \n",
    "    #removing html tags\n",
    "    obj=re.compile(r\"<.*?>\")                     \n",
    "    text=obj.sub(r\" \",text)\n",
    "    \n",
    "    #removing url\n",
    "    obj=re.compile(r\"https://\\S+|http://\\S+\")    \n",
    "    text=obj.sub(r\" \",text)\n",
    "    \n",
    "    #removing punctuations\n",
    "    obj=re.compile(r\"[^\\w\\s]\")                   \n",
    "    text=obj.sub(r\" \",text)\n",
    "    \n",
    "    #removing multiple spaces\n",
    "    obj=re.compile(r\"\\s{2,}\")                    \n",
    "    text=obj.sub(r\" \",text)\n",
    "    \n",
    "    #loading english stop words\n",
    "    en_stopwords = stopwords.words('english')\n",
    "    \n",
    "    #removing stop words and stemming\n",
    "    stemmer = SnowballStemmer(\"english\")\n",
    "    words = []\n",
    "\n",
    "    text=[stemmer.stem(word) for word in text.split() if word not in en_stopwords]    \n",
    "    return \" \".join(text)"
   ],
   "metadata": {
    "collapsed": false,
    "ExecuteTime": {
     "end_time": "2024-06-05T19:07:33.344893700Z",
     "start_time": "2024-06-05T19:07:33.263113300Z"
    }
   },
   "id": "98a866f28c61a642",
   "execution_count": 10
  },
  {
   "cell_type": "code",
   "outputs": [],
   "source": [
    "df = df_cleaned.copy()"
   ],
   "metadata": {
    "collapsed": false,
    "ExecuteTime": {
     "end_time": "2024-06-05T19:07:36.578245900Z",
     "start_time": "2024-06-05T19:07:36.512419900Z"
    }
   },
   "id": "9e1bf4389d68c53d",
   "execution_count": 11
  },
  {
   "cell_type": "code",
   "outputs": [
    {
     "data": {
      "text/plain": "                                                text-en    class-formatted  \\\n0     I would like more information about your smart...  Product_Enquiries   \n1     Hello, I'm interested in your pieces of furnit...  Product_Enquiries   \n2     Dear team, is there a guarantee for the electr...  Product_Enquiries   \n3     Can you provide me with customer reviews for t...  Product_Enquiries   \n4     Hello, how does the right of return for the pr...  Product_Enquiries   \n...                                                 ...                ...   \n1404  I received an email about a promotion, but the...    General_request   \n1405  I'm interested in upgrading my subscription. C...  Product_Enquiries   \n1406  I need assistance with troubleshooting a techn...  Technical_Support   \n1407  I'm considering purchasing your product, but I...  Product_Enquiries   \n1408  I'm experiencing delays in receiving responses...  Technical_Support   \n\n                                      preprocessed_text  \n0     would like inform smartphon model could pleas ...  \n1       hello interest piec furnitur tell current avail  \n2                dear team guarante electr devic bought  \n3                      provid custom review product xyz  \n4               hello right return product purchas work  \n...                                                 ...  \n1404   receiv email promot discount code work help issu  \n1405  interest upgrad subscript explain benefit subs...  \n1406  need assist troubleshoot technic issu softwar ...  \n1407  consid purchas product concern durabl provid r...  \n1408  experienc delay receiv respons support ticket ...  \n\n[514 rows x 3 columns]",
      "text/html": "<div>\n<style scoped>\n    .dataframe tbody tr th:only-of-type {\n        vertical-align: middle;\n    }\n\n    .dataframe tbody tr th {\n        vertical-align: top;\n    }\n\n    .dataframe thead th {\n        text-align: right;\n    }\n</style>\n<table border=\"1\" class=\"dataframe\">\n  <thead>\n    <tr style=\"text-align: right;\">\n      <th></th>\n      <th>text-en</th>\n      <th>class-formatted</th>\n      <th>preprocessed_text</th>\n    </tr>\n  </thead>\n  <tbody>\n    <tr>\n      <th>0</th>\n      <td>I would like more information about your smart...</td>\n      <td>Product_Enquiries</td>\n      <td>would like inform smartphon model could pleas ...</td>\n    </tr>\n    <tr>\n      <th>1</th>\n      <td>Hello, I'm interested in your pieces of furnit...</td>\n      <td>Product_Enquiries</td>\n      <td>hello interest piec furnitur tell current avail</td>\n    </tr>\n    <tr>\n      <th>2</th>\n      <td>Dear team, is there a guarantee for the electr...</td>\n      <td>Product_Enquiries</td>\n      <td>dear team guarante electr devic bought</td>\n    </tr>\n    <tr>\n      <th>3</th>\n      <td>Can you provide me with customer reviews for t...</td>\n      <td>Product_Enquiries</td>\n      <td>provid custom review product xyz</td>\n    </tr>\n    <tr>\n      <th>4</th>\n      <td>Hello, how does the right of return for the pr...</td>\n      <td>Product_Enquiries</td>\n      <td>hello right return product purchas work</td>\n    </tr>\n    <tr>\n      <th>...</th>\n      <td>...</td>\n      <td>...</td>\n      <td>...</td>\n    </tr>\n    <tr>\n      <th>1404</th>\n      <td>I received an email about a promotion, but the...</td>\n      <td>General_request</td>\n      <td>receiv email promot discount code work help issu</td>\n    </tr>\n    <tr>\n      <th>1405</th>\n      <td>I'm interested in upgrading my subscription. C...</td>\n      <td>Product_Enquiries</td>\n      <td>interest upgrad subscript explain benefit subs...</td>\n    </tr>\n    <tr>\n      <th>1406</th>\n      <td>I need assistance with troubleshooting a techn...</td>\n      <td>Technical_Support</td>\n      <td>need assist troubleshoot technic issu softwar ...</td>\n    </tr>\n    <tr>\n      <th>1407</th>\n      <td>I'm considering purchasing your product, but I...</td>\n      <td>Product_Enquiries</td>\n      <td>consid purchas product concern durabl provid r...</td>\n    </tr>\n    <tr>\n      <th>1408</th>\n      <td>I'm experiencing delays in receiving responses...</td>\n      <td>Technical_Support</td>\n      <td>experienc delay receiv respons support ticket ...</td>\n    </tr>\n  </tbody>\n</table>\n<p>514 rows × 3 columns</p>\n</div>"
     },
     "execution_count": 12,
     "metadata": {},
     "output_type": "execute_result"
    }
   ],
   "source": [
    "df['preprocessed_text'] = df['text-en'].apply(preprocess)\n",
    "df"
   ],
   "metadata": {
    "collapsed": false,
    "ExecuteTime": {
     "end_time": "2024-06-05T19:07:39.572232Z",
     "start_time": "2024-06-05T19:07:37.897714Z"
    }
   },
   "id": "bcdab287bcbb018f",
   "execution_count": 12
  },
  {
   "cell_type": "code",
   "outputs": [],
   "source": [
    "vectorizer=TfidfVectorizer(strip_accents='unicode',\n",
    "                           analyzer='word',\n",
    "                           ngram_range=(1, 2),\n",
    "                           smooth_idf=True,\n",
    "                           sublinear_tf=True)\n",
    "\n",
    "vectorizer.fit(df[\"preprocessed_text\"])\n",
    "tfidf = vectorizer.transform(df[\"preprocessed_text\"])"
   ],
   "metadata": {
    "collapsed": false,
    "ExecuteTime": {
     "end_time": "2024-06-05T19:07:39.816578400Z",
     "start_time": "2024-06-05T19:07:39.558270400Z"
    }
   },
   "id": "5ff8933697250e0e",
   "execution_count": 13
  },
  {
   "cell_type": "code",
   "outputs": [
    {
     "data": {
      "text/plain": "<514x2654 sparse matrix of type '<class 'numpy.float64'>'\n\twith 8761 stored elements in Compressed Sparse Row format>"
     },
     "execution_count": 14,
     "metadata": {},
     "output_type": "execute_result"
    }
   ],
   "source": [
    "tfidf"
   ],
   "metadata": {
    "collapsed": false,
    "ExecuteTime": {
     "end_time": "2024-06-05T19:07:40.661317900Z",
     "start_time": "2024-06-05T19:07:40.434924400Z"
    }
   },
   "id": "f619247df3cb6957",
   "execution_count": 14
  },
  {
   "cell_type": "code",
   "outputs": [],
   "source": [],
   "metadata": {
    "collapsed": false,
    "ExecuteTime": {
     "end_time": "2024-06-05T19:07:44.891997800Z",
     "start_time": "2024-06-05T19:07:44.815203700Z"
    }
   },
   "id": "ed6f0437235f0c8e",
   "execution_count": 14
  },
  {
   "cell_type": "markdown",
   "source": [
    "## Model Preparation over original (imbalanced) data"
   ],
   "metadata": {
    "collapsed": false
   },
   "id": "187a1b9c845c2636"
  },
  {
   "cell_type": "code",
   "outputs": [],
   "source": [
    "#Importing required libraries\n",
    "\n",
    "#libraries for Machine learning models\n",
    "from sklearn.ensemble import RandomForestClassifier\n",
    "from sklearn import svm\n",
    "\n",
    "#library for dividing the data into train and test set\n",
    "from sklearn.model_selection import train_test_split\n",
    "\n",
    "#libraries for measuring the model evaluation\n",
    "from sklearn.metrics import confusion_matrix, accuracy_score, ConfusionMatrixDisplay\n",
    "from sklearn import metrics"
   ],
   "metadata": {
    "collapsed": false,
    "ExecuteTime": {
     "end_time": "2024-06-05T19:07:46.381014600Z",
     "start_time": "2024-06-05T19:07:46.046907800Z"
    }
   },
   "id": "773b7b843890f6f9",
   "execution_count": 15
  },
  {
   "cell_type": "markdown",
   "source": [
    "### Splitting the dataset into Train and Test"
   ],
   "metadata": {
    "collapsed": false
   },
   "id": "c56f11d95f9260cf"
  },
  {
   "cell_type": "code",
   "outputs": [],
   "source": [
    "y = df['class-formatted']"
   ],
   "metadata": {
    "collapsed": false,
    "ExecuteTime": {
     "end_time": "2024-06-05T19:07:47.945827300Z",
     "start_time": "2024-06-05T19:07:47.856067800Z"
    }
   },
   "id": "6bf3f8af1200b828",
   "execution_count": 16
  },
  {
   "cell_type": "code",
   "outputs": [],
   "source": [
    "X_train, X_test, y_train, y_test = train_test_split(tfidf, y, test_size=0.2, random_state=2, stratify=y)"
   ],
   "metadata": {
    "collapsed": false,
    "ExecuteTime": {
     "end_time": "2024-06-05T19:07:48.581126700Z",
     "start_time": "2024-06-05T19:07:48.501341800Z"
    }
   },
   "id": "5ead2fc904985f1a",
   "execution_count": 17
  },
  {
   "cell_type": "code",
   "outputs": [],
   "source": [],
   "metadata": {
    "collapsed": false,
    "ExecuteTime": {
     "end_time": "2024-06-05T19:07:50.698475100Z",
     "start_time": "2024-06-05T19:07:50.550857500Z"
    }
   },
   "id": "7d9a38df231d8323",
   "execution_count": 17
  },
  {
   "cell_type": "markdown",
   "source": [
    "### SVM Classifier"
   ],
   "metadata": {
    "collapsed": false
   },
   "id": "bf569dc65e5dcd37"
  },
  {
   "cell_type": "code",
   "outputs": [],
   "source": [
    "svm_clf = svm.SVC(random_state=42, kernel='linear')"
   ],
   "metadata": {
    "collapsed": false,
    "ExecuteTime": {
     "end_time": "2024-06-05T19:07:52.063809600Z",
     "start_time": "2024-06-05T19:07:51.976044100Z"
    }
   },
   "id": "e68727463eb6a68c",
   "execution_count": 18
  },
  {
   "cell_type": "code",
   "outputs": [
    {
     "data": {
      "text/plain": "SVC(kernel='linear', random_state=42)",
      "text/html": "<style>#sk-container-id-1 {\n  /* Definition of color scheme common for light and dark mode */\n  --sklearn-color-text: black;\n  --sklearn-color-line: gray;\n  /* Definition of color scheme for unfitted estimators */\n  --sklearn-color-unfitted-level-0: #fff5e6;\n  --sklearn-color-unfitted-level-1: #f6e4d2;\n  --sklearn-color-unfitted-level-2: #ffe0b3;\n  --sklearn-color-unfitted-level-3: chocolate;\n  /* Definition of color scheme for fitted estimators */\n  --sklearn-color-fitted-level-0: #f0f8ff;\n  --sklearn-color-fitted-level-1: #d4ebff;\n  --sklearn-color-fitted-level-2: #b3dbfd;\n  --sklearn-color-fitted-level-3: cornflowerblue;\n\n  /* Specific color for light theme */\n  --sklearn-color-text-on-default-background: var(--sg-text-color, var(--theme-code-foreground, var(--jp-content-font-color1, black)));\n  --sklearn-color-background: var(--sg-background-color, var(--theme-background, var(--jp-layout-color0, white)));\n  --sklearn-color-border-box: var(--sg-text-color, var(--theme-code-foreground, var(--jp-content-font-color1, black)));\n  --sklearn-color-icon: #696969;\n\n  @media (prefers-color-scheme: dark) {\n    /* Redefinition of color scheme for dark theme */\n    --sklearn-color-text-on-default-background: var(--sg-text-color, var(--theme-code-foreground, var(--jp-content-font-color1, white)));\n    --sklearn-color-background: var(--sg-background-color, var(--theme-background, var(--jp-layout-color0, #111)));\n    --sklearn-color-border-box: var(--sg-text-color, var(--theme-code-foreground, var(--jp-content-font-color1, white)));\n    --sklearn-color-icon: #878787;\n  }\n}\n\n#sk-container-id-1 {\n  color: var(--sklearn-color-text);\n}\n\n#sk-container-id-1 pre {\n  padding: 0;\n}\n\n#sk-container-id-1 input.sk-hidden--visually {\n  border: 0;\n  clip: rect(1px 1px 1px 1px);\n  clip: rect(1px, 1px, 1px, 1px);\n  height: 1px;\n  margin: -1px;\n  overflow: hidden;\n  padding: 0;\n  position: absolute;\n  width: 1px;\n}\n\n#sk-container-id-1 div.sk-dashed-wrapped {\n  border: 1px dashed var(--sklearn-color-line);\n  margin: 0 0.4em 0.5em 0.4em;\n  box-sizing: border-box;\n  padding-bottom: 0.4em;\n  background-color: var(--sklearn-color-background);\n}\n\n#sk-container-id-1 div.sk-container {\n  /* jupyter's `normalize.less` sets `[hidden] { display: none; }`\n     but bootstrap.min.css set `[hidden] { display: none !important; }`\n     so we also need the `!important` here to be able to override the\n     default hidden behavior on the sphinx rendered scikit-learn.org.\n     See: https://github.com/scikit-learn/scikit-learn/issues/21755 */\n  display: inline-block !important;\n  position: relative;\n}\n\n#sk-container-id-1 div.sk-text-repr-fallback {\n  display: none;\n}\n\ndiv.sk-parallel-item,\ndiv.sk-serial,\ndiv.sk-item {\n  /* draw centered vertical line to link estimators */\n  background-image: linear-gradient(var(--sklearn-color-text-on-default-background), var(--sklearn-color-text-on-default-background));\n  background-size: 2px 100%;\n  background-repeat: no-repeat;\n  background-position: center center;\n}\n\n/* Parallel-specific style estimator block */\n\n#sk-container-id-1 div.sk-parallel-item::after {\n  content: \"\";\n  width: 100%;\n  border-bottom: 2px solid var(--sklearn-color-text-on-default-background);\n  flex-grow: 1;\n}\n\n#sk-container-id-1 div.sk-parallel {\n  display: flex;\n  align-items: stretch;\n  justify-content: center;\n  background-color: var(--sklearn-color-background);\n  position: relative;\n}\n\n#sk-container-id-1 div.sk-parallel-item {\n  display: flex;\n  flex-direction: column;\n}\n\n#sk-container-id-1 div.sk-parallel-item:first-child::after {\n  align-self: flex-end;\n  width: 50%;\n}\n\n#sk-container-id-1 div.sk-parallel-item:last-child::after {\n  align-self: flex-start;\n  width: 50%;\n}\n\n#sk-container-id-1 div.sk-parallel-item:only-child::after {\n  width: 0;\n}\n\n/* Serial-specific style estimator block */\n\n#sk-container-id-1 div.sk-serial {\n  display: flex;\n  flex-direction: column;\n  align-items: center;\n  background-color: var(--sklearn-color-background);\n  padding-right: 1em;\n  padding-left: 1em;\n}\n\n\n/* Toggleable style: style used for estimator/Pipeline/ColumnTransformer box that is\nclickable and can be expanded/collapsed.\n- Pipeline and ColumnTransformer use this feature and define the default style\n- Estimators will overwrite some part of the style using the `sk-estimator` class\n*/\n\n/* Pipeline and ColumnTransformer style (default) */\n\n#sk-container-id-1 div.sk-toggleable {\n  /* Default theme specific background. It is overwritten whether we have a\n  specific estimator or a Pipeline/ColumnTransformer */\n  background-color: var(--sklearn-color-background);\n}\n\n/* Toggleable label */\n#sk-container-id-1 label.sk-toggleable__label {\n  cursor: pointer;\n  display: block;\n  width: 100%;\n  margin-bottom: 0;\n  padding: 0.5em;\n  box-sizing: border-box;\n  text-align: center;\n}\n\n#sk-container-id-1 label.sk-toggleable__label-arrow:before {\n  /* Arrow on the left of the label */\n  content: \"▸\";\n  float: left;\n  margin-right: 0.25em;\n  color: var(--sklearn-color-icon);\n}\n\n#sk-container-id-1 label.sk-toggleable__label-arrow:hover:before {\n  color: var(--sklearn-color-text);\n}\n\n/* Toggleable content - dropdown */\n\n#sk-container-id-1 div.sk-toggleable__content {\n  max-height: 0;\n  max-width: 0;\n  overflow: hidden;\n  text-align: left;\n  /* unfitted */\n  background-color: var(--sklearn-color-unfitted-level-0);\n}\n\n#sk-container-id-1 div.sk-toggleable__content.fitted {\n  /* fitted */\n  background-color: var(--sklearn-color-fitted-level-0);\n}\n\n#sk-container-id-1 div.sk-toggleable__content pre {\n  margin: 0.2em;\n  border-radius: 0.25em;\n  color: var(--sklearn-color-text);\n  /* unfitted */\n  background-color: var(--sklearn-color-unfitted-level-0);\n}\n\n#sk-container-id-1 div.sk-toggleable__content.fitted pre {\n  /* unfitted */\n  background-color: var(--sklearn-color-fitted-level-0);\n}\n\n#sk-container-id-1 input.sk-toggleable__control:checked~div.sk-toggleable__content {\n  /* Expand drop-down */\n  max-height: 200px;\n  max-width: 100%;\n  overflow: auto;\n}\n\n#sk-container-id-1 input.sk-toggleable__control:checked~label.sk-toggleable__label-arrow:before {\n  content: \"▾\";\n}\n\n/* Pipeline/ColumnTransformer-specific style */\n\n#sk-container-id-1 div.sk-label input.sk-toggleable__control:checked~label.sk-toggleable__label {\n  color: var(--sklearn-color-text);\n  background-color: var(--sklearn-color-unfitted-level-2);\n}\n\n#sk-container-id-1 div.sk-label.fitted input.sk-toggleable__control:checked~label.sk-toggleable__label {\n  background-color: var(--sklearn-color-fitted-level-2);\n}\n\n/* Estimator-specific style */\n\n/* Colorize estimator box */\n#sk-container-id-1 div.sk-estimator input.sk-toggleable__control:checked~label.sk-toggleable__label {\n  /* unfitted */\n  background-color: var(--sklearn-color-unfitted-level-2);\n}\n\n#sk-container-id-1 div.sk-estimator.fitted input.sk-toggleable__control:checked~label.sk-toggleable__label {\n  /* fitted */\n  background-color: var(--sklearn-color-fitted-level-2);\n}\n\n#sk-container-id-1 div.sk-label label.sk-toggleable__label,\n#sk-container-id-1 div.sk-label label {\n  /* The background is the default theme color */\n  color: var(--sklearn-color-text-on-default-background);\n}\n\n/* On hover, darken the color of the background */\n#sk-container-id-1 div.sk-label:hover label.sk-toggleable__label {\n  color: var(--sklearn-color-text);\n  background-color: var(--sklearn-color-unfitted-level-2);\n}\n\n/* Label box, darken color on hover, fitted */\n#sk-container-id-1 div.sk-label.fitted:hover label.sk-toggleable__label.fitted {\n  color: var(--sklearn-color-text);\n  background-color: var(--sklearn-color-fitted-level-2);\n}\n\n/* Estimator label */\n\n#sk-container-id-1 div.sk-label label {\n  font-family: monospace;\n  font-weight: bold;\n  display: inline-block;\n  line-height: 1.2em;\n}\n\n#sk-container-id-1 div.sk-label-container {\n  text-align: center;\n}\n\n/* Estimator-specific */\n#sk-container-id-1 div.sk-estimator {\n  font-family: monospace;\n  border: 1px dotted var(--sklearn-color-border-box);\n  border-radius: 0.25em;\n  box-sizing: border-box;\n  margin-bottom: 0.5em;\n  /* unfitted */\n  background-color: var(--sklearn-color-unfitted-level-0);\n}\n\n#sk-container-id-1 div.sk-estimator.fitted {\n  /* fitted */\n  background-color: var(--sklearn-color-fitted-level-0);\n}\n\n/* on hover */\n#sk-container-id-1 div.sk-estimator:hover {\n  /* unfitted */\n  background-color: var(--sklearn-color-unfitted-level-2);\n}\n\n#sk-container-id-1 div.sk-estimator.fitted:hover {\n  /* fitted */\n  background-color: var(--sklearn-color-fitted-level-2);\n}\n\n/* Specification for estimator info (e.g. \"i\" and \"?\") */\n\n/* Common style for \"i\" and \"?\" */\n\n.sk-estimator-doc-link,\na:link.sk-estimator-doc-link,\na:visited.sk-estimator-doc-link {\n  float: right;\n  font-size: smaller;\n  line-height: 1em;\n  font-family: monospace;\n  background-color: var(--sklearn-color-background);\n  border-radius: 1em;\n  height: 1em;\n  width: 1em;\n  text-decoration: none !important;\n  margin-left: 1ex;\n  /* unfitted */\n  border: var(--sklearn-color-unfitted-level-1) 1pt solid;\n  color: var(--sklearn-color-unfitted-level-1);\n}\n\n.sk-estimator-doc-link.fitted,\na:link.sk-estimator-doc-link.fitted,\na:visited.sk-estimator-doc-link.fitted {\n  /* fitted */\n  border: var(--sklearn-color-fitted-level-1) 1pt solid;\n  color: var(--sklearn-color-fitted-level-1);\n}\n\n/* On hover */\ndiv.sk-estimator:hover .sk-estimator-doc-link:hover,\n.sk-estimator-doc-link:hover,\ndiv.sk-label-container:hover .sk-estimator-doc-link:hover,\n.sk-estimator-doc-link:hover {\n  /* unfitted */\n  background-color: var(--sklearn-color-unfitted-level-3);\n  color: var(--sklearn-color-background);\n  text-decoration: none;\n}\n\ndiv.sk-estimator.fitted:hover .sk-estimator-doc-link.fitted:hover,\n.sk-estimator-doc-link.fitted:hover,\ndiv.sk-label-container:hover .sk-estimator-doc-link.fitted:hover,\n.sk-estimator-doc-link.fitted:hover {\n  /* fitted */\n  background-color: var(--sklearn-color-fitted-level-3);\n  color: var(--sklearn-color-background);\n  text-decoration: none;\n}\n\n/* Span, style for the box shown on hovering the info icon */\n.sk-estimator-doc-link span {\n  display: none;\n  z-index: 9999;\n  position: relative;\n  font-weight: normal;\n  right: .2ex;\n  padding: .5ex;\n  margin: .5ex;\n  width: min-content;\n  min-width: 20ex;\n  max-width: 50ex;\n  color: var(--sklearn-color-text);\n  box-shadow: 2pt 2pt 4pt #999;\n  /* unfitted */\n  background: var(--sklearn-color-unfitted-level-0);\n  border: .5pt solid var(--sklearn-color-unfitted-level-3);\n}\n\n.sk-estimator-doc-link.fitted span {\n  /* fitted */\n  background: var(--sklearn-color-fitted-level-0);\n  border: var(--sklearn-color-fitted-level-3);\n}\n\n.sk-estimator-doc-link:hover span {\n  display: block;\n}\n\n/* \"?\"-specific style due to the `<a>` HTML tag */\n\n#sk-container-id-1 a.estimator_doc_link {\n  float: right;\n  font-size: 1rem;\n  line-height: 1em;\n  font-family: monospace;\n  background-color: var(--sklearn-color-background);\n  border-radius: 1rem;\n  height: 1rem;\n  width: 1rem;\n  text-decoration: none;\n  /* unfitted */\n  color: var(--sklearn-color-unfitted-level-1);\n  border: var(--sklearn-color-unfitted-level-1) 1pt solid;\n}\n\n#sk-container-id-1 a.estimator_doc_link.fitted {\n  /* fitted */\n  border: var(--sklearn-color-fitted-level-1) 1pt solid;\n  color: var(--sklearn-color-fitted-level-1);\n}\n\n/* On hover */\n#sk-container-id-1 a.estimator_doc_link:hover {\n  /* unfitted */\n  background-color: var(--sklearn-color-unfitted-level-3);\n  color: var(--sklearn-color-background);\n  text-decoration: none;\n}\n\n#sk-container-id-1 a.estimator_doc_link.fitted:hover {\n  /* fitted */\n  background-color: var(--sklearn-color-fitted-level-3);\n}\n</style><div id=\"sk-container-id-1\" class=\"sk-top-container\"><div class=\"sk-text-repr-fallback\"><pre>SVC(kernel=&#x27;linear&#x27;, random_state=42)</pre><b>In a Jupyter environment, please rerun this cell to show the HTML representation or trust the notebook. <br />On GitHub, the HTML representation is unable to render, please try loading this page with nbviewer.org.</b></div><div class=\"sk-container\" hidden><div class=\"sk-item\"><div class=\"sk-estimator fitted sk-toggleable\"><input class=\"sk-toggleable__control sk-hidden--visually\" id=\"sk-estimator-id-1\" type=\"checkbox\" checked><label for=\"sk-estimator-id-1\" class=\"sk-toggleable__label fitted sk-toggleable__label-arrow fitted\">&nbsp;&nbsp;SVC<a class=\"sk-estimator-doc-link fitted\" rel=\"noreferrer\" target=\"_blank\" href=\"https://scikit-learn.org/1.5/modules/generated/sklearn.svm.SVC.html\">?<span>Documentation for SVC</span></a><span class=\"sk-estimator-doc-link fitted\">i<span>Fitted</span></span></label><div class=\"sk-toggleable__content fitted\"><pre>SVC(kernel=&#x27;linear&#x27;, random_state=42)</pre></div> </div></div></div></div>"
     },
     "execution_count": 19,
     "metadata": {},
     "output_type": "execute_result"
    }
   ],
   "source": [
    "#train the model\n",
    "svm_clf.fit(X_train, y_train)"
   ],
   "metadata": {
    "collapsed": false,
    "ExecuteTime": {
     "end_time": "2024-06-05T19:07:52.652235400Z",
     "start_time": "2024-06-05T19:07:52.382956400Z"
    }
   },
   "id": "bfeb3b1095dc62ca",
   "execution_count": 19
  },
  {
   "cell_type": "code",
   "outputs": [
    {
     "data": {
      "text/plain": "0.9223300970873787"
     },
     "execution_count": 20,
     "metadata": {},
     "output_type": "execute_result"
    }
   ],
   "source": [
    "y_pred = svm_clf.predict(X_test)\n",
    "np.mean(y_pred == y_test)"
   ],
   "metadata": {
    "collapsed": false,
    "ExecuteTime": {
     "end_time": "2024-06-05T19:07:53.371311900Z",
     "start_time": "2024-06-05T19:07:53.238667600Z"
    }
   },
   "id": "115babf542de8341",
   "execution_count": 20
  },
  {
   "cell_type": "code",
   "outputs": [
    {
     "name": "stdout",
     "output_type": "stream",
     "text": [
      "[[13  0  0  0  1]\n",
      " [ 0 18  0  1  2]\n",
      " [ 0  0 15  0  0]\n",
      " [ 1  1  0 24  1]\n",
      " [ 0  1  0  0 25]]\n",
      "                   precision    recall  f1-score   support\n",
      "\n",
      "       Complaints       0.93      0.93      0.93        14\n",
      "  General_request       0.90      0.86      0.88        21\n",
      "   Order_requests       1.00      1.00      1.00        15\n",
      "Product_Enquiries       0.96      0.89      0.92        27\n",
      "Technical_Support       0.86      0.96      0.91        26\n",
      "\n",
      "         accuracy                           0.92       103\n",
      "        macro avg       0.93      0.93      0.93       103\n",
      "     weighted avg       0.92      0.92      0.92       103\n"
     ]
    },
    {
     "data": {
      "text/plain": "<sklearn.metrics._plot.confusion_matrix.ConfusionMatrixDisplay at 0x239536046d0>"
     },
     "execution_count": 21,
     "metadata": {},
     "output_type": "execute_result"
    },
    {
     "data": {
      "text/plain": "<Figure size 640x480 with 2 Axes>",
      "image/png": "[encoded data removed]"
     },
     "metadata": {},
     "output_type": "display_data"
    }
   ],
   "source": [
    "cm = confusion_matrix(y_test, y_pred)\n",
    "cm_report = metrics.classification_report(y_test,y_pred)\n",
    "print(cm)\n",
    "print(cm_report)\n",
    "cmd = ConfusionMatrixDisplay(cm)\n",
    "cmd.plot(colorbar=True, cmap='Blues')"
   ],
   "metadata": {
    "collapsed": false,
    "ExecuteTime": {
     "end_time": "2024-06-05T19:07:59.279502200Z",
     "start_time": "2024-06-05T19:07:56.277536300Z"
    }
   },
   "id": "695c72a84e0a4e9b",
   "execution_count": 21
  },
  {
   "cell_type": "markdown",
   "source": [
    "### Randomforest Classifier"
   ],
   "metadata": {
    "collapsed": false
   },
   "id": "dad4aee8ac034dfa"
  },
  {
   "cell_type": "code",
   "outputs": [
    {
     "data": {
      "text/plain": "RandomForestClassifier(n_estimators=50, n_jobs=-1, random_state=1)",
      "text/html": "<style>#sk-container-id-2 {\n  /* Definition of color scheme common for light and dark mode */\n  --sklearn-color-text: black;\n  --sklearn-color-line: gray;\n  /* Definition of color scheme for unfitted estimators */\n  --sklearn-color-unfitted-level-0: #fff5e6;\n  --sklearn-color-unfitted-level-1: #f6e4d2;\n  --sklearn-color-unfitted-level-2: #ffe0b3;\n  --sklearn-color-unfitted-level-3: chocolate;\n  /* Definition of color scheme for fitted estimators */\n  --sklearn-color-fitted-level-0: #f0f8ff;\n  --sklearn-color-fitted-level-1: #d4ebff;\n  --sklearn-color-fitted-level-2: #b3dbfd;\n  --sklearn-color-fitted-level-3: cornflowerblue;\n\n  /* Specific color for light theme */\n  --sklearn-color-text-on-default-background: var(--sg-text-color, var(--theme-code-foreground, var(--jp-content-font-color1, black)));\n  --sklearn-color-background: var(--sg-background-color, var(--theme-background, var(--jp-layout-color0, white)));\n  --sklearn-color-border-box: var(--sg-text-color, var(--theme-code-foreground, var(--jp-content-font-color1, black)));\n  --sklearn-color-icon: #696969;\n\n  @media (prefers-color-scheme: dark) {\n    /* Redefinition of color scheme for dark theme */\n    --sklearn-color-text-on-default-background: var(--sg-text-color, var(--theme-code-foreground, var(--jp-content-font-color1, white)));\n    --sklearn-color-background: var(--sg-background-color, var(--theme-background, var(--jp-layout-color0, #111)));\n    --sklearn-color-border-box: var(--sg-text-color, var(--theme-code-foreground, var(--jp-content-font-color1, white)));\n    --sklearn-color-icon: #878787;\n  }\n}\n\n#sk-container-id-2 {\n  color: var(--sklearn-color-text);\n}\n\n#sk-container-id-2 pre {\n  padding: 0;\n}\n\n#sk-container-id-2 input.sk-hidden--visually {\n  border: 0;\n  clip: rect(1px 1px 1px 1px);\n  clip: rect(1px, 1px, 1px, 1px);\n  height: 1px;\n  margin: -1px;\n  overflow: hidden;\n  padding: 0;\n  position: absolute;\n  width: 1px;\n}\n\n#sk-container-id-2 div.sk-dashed-wrapped {\n  border: 1px dashed var(--sklearn-color-line);\n  margin: 0 0.4em 0.5em 0.4em;\n  box-sizing: border-box;\n  padding-bottom: 0.4em;\n  background-color: var(--sklearn-color-background);\n}\n\n#sk-container-id-2 div.sk-container {\n  /* jupyter's `normalize.less` sets `[hidden] { display: none; }`\n     but bootstrap.min.css set `[hidden] { display: none !important; }`\n     so we also need the `!important` here to be able to override the\n     default hidden behavior on the sphinx rendered scikit-learn.org.\n     See: https://github.com/scikit-learn/scikit-learn/issues/21755 */\n  display: inline-block !important;\n  position: relative;\n}\n\n#sk-container-id-2 div.sk-text-repr-fallback {\n  display: none;\n}\n\ndiv.sk-parallel-item,\ndiv.sk-serial,\ndiv.sk-item {\n  /* draw centered vertical line to link estimators */\n  background-image: linear-gradient(var(--sklearn-color-text-on-default-background), var(--sklearn-color-text-on-default-background));\n  background-size: 2px 100%;\n  background-repeat: no-repeat;\n  background-position: center center;\n}\n\n/* Parallel-specific style estimator block */\n\n#sk-container-id-2 div.sk-parallel-item::after {\n  content: \"\";\n  width: 100%;\n  border-bottom: 2px solid var(--sklearn-color-text-on-default-background);\n  flex-grow: 1;\n}\n\n#sk-container-id-2 div.sk-parallel {\n  display: flex;\n  align-items: stretch;\n  justify-content: center;\n  background-color: var(--sklearn-color-background);\n  position: relative;\n}\n\n#sk-container-id-2 div.sk-parallel-item {\n  display: flex;\n  flex-direction: column;\n}\n\n#sk-container-id-2 div.sk-parallel-item:first-child::after {\n  align-self: flex-end;\n  width: 50%;\n}\n\n#sk-container-id-2 div.sk-parallel-item:last-child::after {\n  align-self: flex-start;\n  width: 50%;\n}\n\n#sk-container-id-2 div.sk-parallel-item:only-child::after {\n  width: 0;\n}\n\n/* Serial-specific style estimator block */\n\n#sk-container-id-2 div.sk-serial {\n  display: flex;\n  flex-direction: column;\n  align-items: center;\n  background-color: var(--sklearn-color-background);\n  padding-right: 1em;\n  padding-left: 1em;\n}\n\n\n/* Toggleable style: style used for estimator/Pipeline/ColumnTransformer box that is\nclickable and can be expanded/collapsed.\n- Pipeline and ColumnTransformer use this feature and define the default style\n- Estimators will overwrite some part of the style using the `sk-estimator` class\n*/\n\n/* Pipeline and ColumnTransformer style (default) */\n\n#sk-container-id-2 div.sk-toggleable {\n  /* Default theme specific background. It is overwritten whether we have a\n  specific estimator or a Pipeline/ColumnTransformer */\n  background-color: var(--sklearn-color-background);\n}\n\n/* Toggleable label */\n#sk-container-id-2 label.sk-toggleable__label {\n  cursor: pointer;\n  display: block;\n  width: 100%;\n  margin-bottom: 0;\n  padding: 0.5em;\n  box-sizing: border-box;\n  text-align: center;\n}\n\n#sk-container-id-2 label.sk-toggleable__label-arrow:before {\n  /* Arrow on the left of the label */\n  content: \"▸\";\n  float: left;\n  margin-right: 0.25em;\n  color: var(--sklearn-color-icon);\n}\n\n#sk-container-id-2 label.sk-toggleable__label-arrow:hover:before {\n  color: var(--sklearn-color-text);\n}\n\n/* Toggleable content - dropdown */\n\n#sk-container-id-2 div.sk-toggleable__content {\n  max-height: 0;\n  max-width: 0;\n  overflow: hidden;\n  text-align: left;\n  /* unfitted */\n  background-color: var(--sklearn-color-unfitted-level-0);\n}\n\n#sk-container-id-2 div.sk-toggleable__content.fitted {\n  /* fitted */\n  background-color: var(--sklearn-color-fitted-level-0);\n}\n\n#sk-container-id-2 div.sk-toggleable__content pre {\n  margin: 0.2em;\n  border-radius: 0.25em;\n  color: var(--sklearn-color-text);\n  /* unfitted */\n  background-color: var(--sklearn-color-unfitted-level-0);\n}\n\n#sk-container-id-2 div.sk-toggleable__content.fitted pre {\n  /* unfitted */\n  background-color: var(--sklearn-color-fitted-level-0);\n}\n\n#sk-container-id-2 input.sk-toggleable__control:checked~div.sk-toggleable__content {\n  /* Expand drop-down */\n  max-height: 200px;\n  max-width: 100%;\n  overflow: auto;\n}\n\n#sk-container-id-2 input.sk-toggleable__control:checked~label.sk-toggleable__label-arrow:before {\n  content: \"▾\";\n}\n\n/* Pipeline/ColumnTransformer-specific style */\n\n#sk-container-id-2 div.sk-label input.sk-toggleable__control:checked~label.sk-toggleable__label {\n  color: var(--sklearn-color-text);\n  background-color: var(--sklearn-color-unfitted-level-2);\n}\n\n#sk-container-id-2 div.sk-label.fitted input.sk-toggleable__control:checked~label.sk-toggleable__label {\n  background-color: var(--sklearn-color-fitted-level-2);\n}\n\n/* Estimator-specific style */\n\n/* Colorize estimator box */\n#sk-container-id-2 div.sk-estimator input.sk-toggleable__control:checked~label.sk-toggleable__label {\n  /* unfitted */\n  background-color: var(--sklearn-color-unfitted-level-2);\n}\n\n#sk-container-id-2 div.sk-estimator.fitted input.sk-toggleable__control:checked~label.sk-toggleable__label {\n  /* fitted */\n  background-color: var(--sklearn-color-fitted-level-2);\n}\n\n#sk-container-id-2 div.sk-label label.sk-toggleable__label,\n#sk-container-id-2 div.sk-label label {\n  /* The background is the default theme color */\n  color: var(--sklearn-color-text-on-default-background);\n}\n\n/* On hover, darken the color of the background */\n#sk-container-id-2 div.sk-label:hover label.sk-toggleable__label {\n  color: var(--sklearn-color-text);\n  background-color: var(--sklearn-color-unfitted-level-2);\n}\n\n/* Label box, darken color on hover, fitted */\n#sk-container-id-2 div.sk-label.fitted:hover label.sk-toggleable__label.fitted {\n  color: var(--sklearn-color-text);\n  background-color: var(--sklearn-color-fitted-level-2);\n}\n\n/* Estimator label */\n\n#sk-container-id-2 div.sk-label label {\n  font-family: monospace;\n  font-weight: bold;\n  display: inline-block;\n  line-height: 1.2em;\n}\n\n#sk-container-id-2 div.sk-label-container {\n  text-align: center;\n}\n\n/* Estimator-specific */\n#sk-container-id-2 div.sk-estimator {\n  font-family: monospace;\n  border: 1px dotted var(--sklearn-color-border-box);\n  border-radius: 0.25em;\n  box-sizing: border-box;\n  margin-bottom: 0.5em;\n  /* unfitted */\n  background-color: var(--sklearn-color-unfitted-level-0);\n}\n\n#sk-container-id-2 div.sk-estimator.fitted {\n  /* fitted */\n  background-color: var(--sklearn-color-fitted-level-0);\n}\n\n/* on hover */\n#sk-container-id-2 div.sk-estimator:hover {\n  /* unfitted */\n  background-color: var(--sklearn-color-unfitted-level-2);\n}\n\n#sk-container-id-2 div.sk-estimator.fitted:hover {\n  /* fitted */\n  background-color: var(--sklearn-color-fitted-level-2);\n}\n\n/* Specification for estimator info (e.g. \"i\" and \"?\") */\n\n/* Common style for \"i\" and \"?\" */\n\n.sk-estimator-doc-link,\na:link.sk-estimator-doc-link,\na:visited.sk-estimator-doc-link {\n  float: right;\n  font-size: smaller;\n  line-height: 1em;\n  font-family: monospace;\n  background-color: var(--sklearn-color-background);\n  border-radius: 1em;\n  height: 1em;\n  width: 1em;\n  text-decoration: none !important;\n  margin-left: 1ex;\n  /* unfitted */\n  border: var(--sklearn-color-unfitted-level-1) 1pt solid;\n  color: var(--sklearn-color-unfitted-level-1);\n}\n\n.sk-estimator-doc-link.fitted,\na:link.sk-estimator-doc-link.fitted,\na:visited.sk-estimator-doc-link.fitted {\n  /* fitted */\n  border: var(--sklearn-color-fitted-level-1) 1pt solid;\n  color: var(--sklearn-color-fitted-level-1);\n}\n\n/* On hover */\ndiv.sk-estimator:hover .sk-estimator-doc-link:hover,\n.sk-estimator-doc-link:hover,\ndiv.sk-label-container:hover .sk-estimator-doc-link:hover,\n.sk-estimator-doc-link:hover {\n  /* unfitted */\n  background-color: var(--sklearn-color-unfitted-level-3);\n  color: var(--sklearn-color-background);\n  text-decoration: none;\n}\n\ndiv.sk-estimator.fitted:hover .sk-estimator-doc-link.fitted:hover,\n.sk-estimator-doc-link.fitted:hover,\ndiv.sk-label-container:hover .sk-estimator-doc-link.fitted:hover,\n.sk-estimator-doc-link.fitted:hover {\n  /* fitted */\n  background-color: var(--sklearn-color-fitted-level-3);\n  color: var(--sklearn-color-background);\n  text-decoration: none;\n}\n\n/* Span, style for the box shown on hovering the info icon */\n.sk-estimator-doc-link span {\n  display: none;\n  z-index: 9999;\n  position: relative;\n  font-weight: normal;\n  right: .2ex;\n  padding: .5ex;\n  margin: .5ex;\n  width: min-content;\n  min-width: 20ex;\n  max-width: 50ex;\n  color: var(--sklearn-color-text);\n  box-shadow: 2pt 2pt 4pt #999;\n  /* unfitted */\n  background: var(--sklearn-color-unfitted-level-0);\n  border: .5pt solid var(--sklearn-color-unfitted-level-3);\n}\n\n.sk-estimator-doc-link.fitted span {\n  /* fitted */\n  background: var(--sklearn-color-fitted-level-0);\n  border: var(--sklearn-color-fitted-level-3);\n}\n\n.sk-estimator-doc-link:hover span {\n  display: block;\n}\n\n/* \"?\"-specific style due to the `<a>` HTML tag */\n\n#sk-container-id-2 a.estimator_doc_link {\n  float: right;\n  font-size: 1rem;\n  line-height: 1em;\n  font-family: monospace;\n  background-color: var(--sklearn-color-background);\n  border-radius: 1rem;\n  height: 1rem;\n  width: 1rem;\n  text-decoration: none;\n  /* unfitted */\n  color: var(--sklearn-color-unfitted-level-1);\n  border: var(--sklearn-color-unfitted-level-1) 1pt solid;\n}\n\n#sk-container-id-2 a.estimator_doc_link.fitted {\n  /* fitted */\n  border: var(--sklearn-color-fitted-level-1) 1pt solid;\n  color: var(--sklearn-color-fitted-level-1);\n}\n\n/* On hover */\n#sk-container-id-2 a.estimator_doc_link:hover {\n  /* unfitted */\n  background-color: var(--sklearn-color-unfitted-level-3);\n  color: var(--sklearn-color-background);\n  text-decoration: none;\n}\n\n#sk-container-id-2 a.estimator_doc_link.fitted:hover {\n  /* fitted */\n  background-color: var(--sklearn-color-fitted-level-3);\n}\n</style><div id=\"sk-container-id-2\" class=\"sk-top-container\"><div class=\"sk-text-repr-fallback\"><pre>RandomForestClassifier(n_estimators=50, n_jobs=-1, random_state=1)</pre><b>In a Jupyter environment, please rerun this cell to show the HTML representation or trust the notebook. <br />On GitHub, the HTML representation is unable to render, please try loading this page with nbviewer.org.</b></div><div class=\"sk-container\" hidden><div class=\"sk-item\"><div class=\"sk-estimator fitted sk-toggleable\"><input class=\"sk-toggleable__control sk-hidden--visually\" id=\"sk-estimator-id-2\" type=\"checkbox\" checked><label for=\"sk-estimator-id-2\" class=\"sk-toggleable__label fitted sk-toggleable__label-arrow fitted\">&nbsp;&nbsp;RandomForestClassifier<a class=\"sk-estimator-doc-link fitted\" rel=\"noreferrer\" target=\"_blank\" href=\"https://scikit-learn.org/1.5/modules/generated/sklearn.ensemble.RandomForestClassifier.html\">?<span>Documentation for RandomForestClassifier</span></a><span class=\"sk-estimator-doc-link fitted\">i<span>Fitted</span></span></label><div class=\"sk-toggleable__content fitted\"><pre>RandomForestClassifier(n_estimators=50, n_jobs=-1, random_state=1)</pre></div> </div></div></div></div>"
     },
     "execution_count": 82,
     "metadata": {},
     "output_type": "execute_result"
    }
   ],
   "source": [
    "### Random Forest Model\n",
    "randomForest_model = RandomForestClassifier(n_estimators=50, random_state=1,n_jobs=-1)\n",
    "randomForest_model.fit(X_train, y_train)"
   ],
   "metadata": {
    "collapsed": false,
    "ExecuteTime": {
     "end_time": "2024-06-05T16:45:43.369238200Z",
     "start_time": "2024-06-05T16:45:43.032140Z"
    }
   },
   "id": "e0b499b6b31f96ba",
   "execution_count": 82
  },
  {
   "cell_type": "code",
   "outputs": [
    {
     "name": "stdout",
     "output_type": "stream",
     "text": [
      "0.8737864077669902\n"
     ]
    }
   ],
   "source": [
    "y_pred = randomForest_model.predict(X_test)\n",
    "print(accuracy_score(y_test, y_pred))"
   ],
   "metadata": {
    "collapsed": false,
    "ExecuteTime": {
     "end_time": "2024-06-05T16:45:44.947015900Z",
     "start_time": "2024-06-05T16:45:44.865235100Z"
    }
   },
   "id": "97acbef071ccaf34",
   "execution_count": 83
  },
  {
   "cell_type": "code",
   "outputs": [
    {
     "name": "stdout",
     "output_type": "stream",
     "text": [
      "[[10  2  0  0  2]\n",
      " [ 0 19  0  2  0]\n",
      " [ 0  0 15  0  0]\n",
      " [ 0  3  0 24  0]\n",
      " [ 0  3  0  1 22]]\n",
      "                   precision    recall  f1-score   support\n",
      "\n",
      "       Complaints       1.00      0.71      0.83        14\n",
      "  General_request       0.70      0.90      0.79        21\n",
      "   Order_requests       1.00      1.00      1.00        15\n",
      "Product_Enquiries       0.89      0.89      0.89        27\n",
      "Technical_Support       0.92      0.85      0.88        26\n",
      "\n",
      "         accuracy                           0.87       103\n",
      "        macro avg       0.90      0.87      0.88       103\n",
      "     weighted avg       0.89      0.87      0.88       103\n"
     ]
    },
    {
     "data": {
      "text/plain": "<sklearn.metrics._plot.confusion_matrix.ConfusionMatrixDisplay at 0x1f66247c6a0>"
     },
     "execution_count": 84,
     "metadata": {},
     "output_type": "execute_result"
    },
    {
     "data": {
      "text/plain": "<Figure size 640x480 with 2 Axes>",
      "image/png": "[encoded data removed]"
     },
     "metadata": {},
     "output_type": "display_data"
    }
   ],
   "source": [
    "cm = confusion_matrix(y_test, y_pred)\n",
    "cm_report = metrics.classification_report(y_test,y_pred)\n",
    "print(cm)\n",
    "print(cm_report)\n",
    "cmd = ConfusionMatrixDisplay(cm)\n",
    "cmd.plot(colorbar=True, cmap='Blues')"
   ],
   "metadata": {
    "collapsed": false,
    "ExecuteTime": {
     "end_time": "2024-06-05T16:45:49.582613500Z",
     "start_time": "2024-06-05T16:45:48.652103100Z"
    }
   },
   "id": "7c395a5c79e510ff",
   "execution_count": 84
  },
  {
   "cell_type": "markdown",
   "source": [
    "## Save the trained models"
   ],
   "metadata": {
    "collapsed": false
   },
   "id": "342958bbf16fb0a5"
  },
  {
   "cell_type": "code",
   "outputs": [],
   "source": [
    "import joblib"
   ],
   "metadata": {
    "collapsed": false,
    "ExecuteTime": {
     "end_time": "2024-06-05T19:08:08.914722600Z",
     "start_time": "2024-06-05T19:08:08.837934300Z"
    }
   },
   "id": "2efe797c6d2986f7",
   "execution_count": 22
  },
  {
   "cell_type": "code",
   "outputs": [
    {
     "data": {
      "text/plain": "['svm_model.pkl']"
     },
     "execution_count": 23,
     "metadata": {},
     "output_type": "execute_result"
    }
   ],
   "source": [
    "joblib.dump(svm_clf,\"svm_model.pkl\")"
   ],
   "metadata": {
    "collapsed": false,
    "ExecuteTime": {
     "end_time": "2024-06-05T19:08:09.652750300Z",
     "start_time": "2024-06-05T19:08:09.580944300Z"
    }
   },
   "id": "f35893d0d0b06093",
   "execution_count": 23
  },
  {
   "cell_type": "code",
   "outputs": [
    {
     "data": {
      "text/plain": "['vectorizer.pkl']"
     },
     "execution_count": 24,
     "metadata": {},
     "output_type": "execute_result"
    }
   ],
   "source": [
    "joblib.dump(vectorizer,\"vectorizer.pkl\")"
   ],
   "metadata": {
    "collapsed": false,
    "ExecuteTime": {
     "end_time": "2024-06-05T19:08:13.267078500Z",
     "start_time": "2024-06-05T19:08:13.190284100Z"
    }
   },
   "id": "c95c62f387f986bf",
   "execution_count": 24
  },
  {
   "cell_type": "code",
   "outputs": [
    {
     "data": {
      "text/plain": "<1x2654 sparse matrix of type '<class 'numpy.float64'>'\n\twith 1 stored elements in Compressed Sparse Row format>"
     },
     "execution_count": 25,
     "metadata": {},
     "output_type": "execute_result"
    }
   ],
   "source": [
    "vectorizer.transform([\"hi I am umair\"])"
   ],
   "metadata": {
    "collapsed": false,
    "ExecuteTime": {
     "end_time": "2024-06-05T19:08:14.722184Z",
     "start_time": "2024-06-05T19:08:14.642398500Z"
    }
   },
   "id": "52443d47240e5fbe",
   "execution_count": 25
  },
  {
   "cell_type": "code",
   "outputs": [],
   "source": [],
   "metadata": {
    "collapsed": false
   },
   "id": "16c309ff01ff38b5"
  }
 ],
 "metadata": {
  "kernelspec": {
   "display_name": "Python 3",
   "language": "python",
   "name": "python3"
  },
  "language_info": {
   "codemirror_mode": {
    "name": "ipython",
    "version": 2
   },
   "file_extension": ".py",
   "mimetype": "text/x-python",
   "name": "python",
   "nbconvert_exporter": "python",
   "pygments_lexer": "ipython2",
   "version": "2.7.6"
  }
 },
 "nbformat": 4,
 "nbformat_minor": 5
}
